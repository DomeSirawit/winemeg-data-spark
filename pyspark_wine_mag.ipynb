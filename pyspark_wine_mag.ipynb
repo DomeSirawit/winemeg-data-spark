{
  "nbformat": 4,
  "nbformat_minor": 0,
  "metadata": {
    "colab": {
      "provenance": [],
      "authorship_tag": "ABX9TyModXozbMOv0DC8qLRSyJ1M"
    },
    "kernelspec": {
      "name": "python3",
      "display_name": "Python 3"
    },
    "language_info": {
      "name": "python"
    }
  },
  "cells": [
    {
      "cell_type": "code",
      "execution_count": null,
      "metadata": {
        "id": "yfIo42I6rnRX"
      },
      "outputs": [],
      "source": [
        "!apt-get update                                                                          # Update Package \n",
        "!apt-get install openjdk-8-jdk-headless -qq > /dev/null                                  # install Java Development Kit (important!!! cant run Spark with out this)\n",
        "!wget -q https://archive.apache.org/dist/spark/spark-3.1.2/spark-3.1.2-bin-hadoop2.7.tgz # install Spark 3.1.2\n",
        "!tar xzvf spark-3.1.2-bin-hadoop2.7.tgz                                                  # Unzip  Spark 3.1.2\n",
        "!pip install -q findspark==1.3.0                                                         # install Package Python for connect with Spark "
      ]
    },
    {
      "cell_type": "code",
      "source": [
        "import os\n",
        "os.environ[\"JAVA_HOME\"] = \"/usr/lib/jvm/java-8-openjdk-amd64\"\n",
        "os.environ[\"SPARK_HOME\"] = \"/content/spark-3.1.2-bin-hadoop2.7\""
      ],
      "metadata": {
        "id": "_6CQV815rpiX"
      },
      "execution_count": 79,
      "outputs": []
    },
    {
      "cell_type": "code",
      "source": [
        "import pandas as pd"
      ],
      "metadata": {
        "id": "M1Yg3qJLuRXV"
      },
      "execution_count": 80,
      "outputs": []
    },
    {
      "cell_type": "code",
      "source": [
        "!pip install pyspark==3.1.2"
      ],
      "metadata": {
        "id": "QsN_DbFHrqUg"
      },
      "execution_count": null,
      "outputs": []
    },
    {
      "cell_type": "code",
      "source": [
        "# Create Spark Session \n",
        "from pyspark.sql import SparkSession\n",
        "spark = SparkSession.builder.master(\"local[*]\").getOrCreate()"
      ],
      "metadata": {
        "id": "PmpkBdhwrqom"
      },
      "execution_count": 82,
      "outputs": []
    },
    {
      "cell_type": "code",
      "source": [
        "#  Python Version\n",
        "import sys\n",
        "sys.version_info"
      ],
      "metadata": {
        "colab": {
          "base_uri": "https://localhost:8080/"
        },
        "id": "ZfcVpbVHrq23",
        "outputId": "0683e6d1-0f1d-41e1-fb53-3d3e0a853240"
      },
      "execution_count": 83,
      "outputs": [
        {
          "output_type": "execute_result",
          "data": {
            "text/plain": [
              "sys.version_info(major=3, minor=8, micro=15, releaselevel='final', serial=0)"
            ]
          },
          "metadata": {},
          "execution_count": 83
        }
      ]
    },
    {
      "cell_type": "code",
      "source": [
        "# Download Data File !wget\n",
        "\n",
        "!wget https://maven-datasets.s3.amazonaws.com/Wine+Tasting/winemag-data-130k-v2.csv.zip"
      ],
      "metadata": {
        "id": "MWRYeA6arrSK"
      },
      "execution_count": null,
      "outputs": []
    },
    {
      "cell_type": "code",
      "source": [
        "!unzip winemag-data-130k-v2.csv.zip"
      ],
      "metadata": {
        "id": "WSpIlKVPtrzQ"
      },
      "execution_count": null,
      "outputs": []
    },
    {
      "cell_type": "code",
      "source": [
        "dt = spark.read.csv('/content/winemag-data-130k-v2.csv', header = True, inferSchema = True, )"
      ],
      "metadata": {
        "id": "A4uyN93otsNd"
      },
      "execution_count": 86,
      "outputs": []
    },
    {
      "cell_type": "code",
      "source": [
        "# check column\n",
        "dt"
      ],
      "metadata": {
        "colab": {
          "base_uri": "https://localhost:8080/"
        },
        "id": "VfdeQHvZvHGu",
        "outputId": "593f62e2-bf26-4f1f-8c63-688f028048fe"
      },
      "execution_count": 87,
      "outputs": [
        {
          "output_type": "execute_result",
          "data": {
            "text/plain": [
              "DataFrame[id: string, country: string, description: string, designation: string, points: string, price: string, province: string, region_1: string, region_2: string, taster_name: string, taster_twitter_handle: string, title: string, variety: string, winery: string]"
            ]
          },
          "metadata": {},
          "execution_count": 87
        }
      ]
    },
    {
      "cell_type": "code",
      "source": [
        "dt.dtypes"
      ],
      "metadata": {
        "colab": {
          "base_uri": "https://localhost:8080/"
        },
        "id": "t6cyjjDkvOOS",
        "outputId": "984c2f1d-521f-48a3-9819-d6f39de72593"
      },
      "execution_count": 88,
      "outputs": [
        {
          "output_type": "execute_result",
          "data": {
            "text/plain": [
              "[('id', 'string'),\n",
              " ('country', 'string'),\n",
              " ('description', 'string'),\n",
              " ('designation', 'string'),\n",
              " ('points', 'string'),\n",
              " ('price', 'string'),\n",
              " ('province', 'string'),\n",
              " ('region_1', 'string'),\n",
              " ('region_2', 'string'),\n",
              " ('taster_name', 'string'),\n",
              " ('taster_twitter_handle', 'string'),\n",
              " ('title', 'string'),\n",
              " ('variety', 'string'),\n",
              " ('winery', 'string')]"
            ]
          },
          "metadata": {},
          "execution_count": 88
        }
      ]
    },
    {
      "cell_type": "code",
      "source": [
        "dt.printSchema()"
      ],
      "metadata": {
        "colab": {
          "base_uri": "https://localhost:8080/"
        },
        "id": "4DYOIBT0vReF",
        "outputId": "40c464b0-db82-443f-d80d-df161fd22a96"
      },
      "execution_count": 89,
      "outputs": [
        {
          "output_type": "stream",
          "name": "stdout",
          "text": [
            "root\n",
            " |-- id: string (nullable = true)\n",
            " |-- country: string (nullable = true)\n",
            " |-- description: string (nullable = true)\n",
            " |-- designation: string (nullable = true)\n",
            " |-- points: string (nullable = true)\n",
            " |-- price: string (nullable = true)\n",
            " |-- province: string (nullable = true)\n",
            " |-- region_1: string (nullable = true)\n",
            " |-- region_2: string (nullable = true)\n",
            " |-- taster_name: string (nullable = true)\n",
            " |-- taster_twitter_handle: string (nullable = true)\n",
            " |-- title: string (nullable = true)\n",
            " |-- variety: string (nullable = true)\n",
            " |-- winery: string (nullable = true)\n",
            "\n"
          ]
        }
      ]
    },
    {
      "cell_type": "code",
      "source": [
        "dt.show()"
      ],
      "metadata": {
        "colab": {
          "base_uri": "https://localhost:8080/"
        },
        "id": "jAyagcqeuG3j",
        "outputId": "6bc7a239-8e75-4e08-edd5-5cefb2f5c797"
      },
      "execution_count": 90,
      "outputs": [
        {
          "output_type": "stream",
          "name": "stdout",
          "text": [
            "+---+---------+--------------------+--------------------+------+-----+-----------------+-------------------+-----------------+------------------+---------------------+--------------------+------------------+-------------------+\n",
            "| id|  country|         description|         designation|points|price|         province|           region_1|         region_2|       taster_name|taster_twitter_handle|               title|           variety|             winery|\n",
            "+---+---------+--------------------+--------------------+------+-----+-----------------+-------------------+-----------------+------------------+---------------------+--------------------+------------------+-------------------+\n",
            "|  0|    Italy|Aromas include tr...|        Vulkà Bianco|    87| null|Sicily & Sardinia|               Etna|             null|     Kerin O’Keefe|         @kerinokeefe|Nicosia 2013 Vulk...|       White Blend|            Nicosia|\n",
            "|  1| Portugal|This is ripe and ...|            Avidagos|    87|   15|            Douro|               null|             null|        Roger Voss|           @vossroger|Quinta dos Avidag...|    Portuguese Red|Quinta dos Avidagos|\n",
            "|  2|       US|Tart and snappy, ...|                null|    87|   14|           Oregon|  Willamette Valley|Willamette Valley|      Paul Gregutt|          @paulgwine |Rainstorm 2013 Pi...|        Pinot Gris|          Rainstorm|\n",
            "|  3|       US|Pineapple rind, l...|Reserve Late Harvest|    87|   13|         Michigan|Lake Michigan Shore|             null|Alexander Peartree|                 null|St. Julian 2013 R...|          Riesling|         St. Julian|\n",
            "|  4|       US|Much like the reg...|Vintner's Reserve...|    87|   65|           Oregon|  Willamette Valley|Willamette Valley|      Paul Gregutt|          @paulgwine |Sweet Cheeks 2012...|        Pinot Noir|       Sweet Cheeks|\n",
            "|  5|    Spain|Blackberry and ra...|        Ars In Vitro|    87|   15|   Northern Spain|            Navarra|             null| Michael Schachner|          @wineschach|Tandem 2011 Ars I...|Tempranillo-Merlot|             Tandem|\n",
            "|  6|    Italy|Here's a bright, ...|             Belsito|    87|   16|Sicily & Sardinia|           Vittoria|             null|     Kerin O’Keefe|         @kerinokeefe|Terre di Giurfo 2...|          Frappato|    Terre di Giurfo|\n",
            "|  7|   France|This dry and rest...|                null|    87|   24|           Alsace|             Alsace|             null|        Roger Voss|           @vossroger|Trimbach 2012 Gew...|    Gewürztraminer|           Trimbach|\n",
            "|  8|  Germany|Savory dried thym...|               Shine|    87|   12|      Rheinhessen|               null|             null|Anna Lee C. Iijima|                 null|Heinz Eifel 2013 ...|    Gewürztraminer|        Heinz Eifel|\n",
            "|  9|   France|This has great de...|         Les Natures|    87|   27|           Alsace|             Alsace|             null|        Roger Voss|           @vossroger|Jean-Baptiste Ada...|        Pinot Gris| Jean-Baptiste Adam|\n",
            "| 10|       US|Soft, supple plum...|      Mountain Cuvée|    87|   19|       California|        Napa Valley|             Napa|    Virginie Boone|              @vboone|Kirkland Signatur...|Cabernet Sauvignon| Kirkland Signature|\n",
            "| 11|   France|This is a dry win...|                null|    87|   30|           Alsace|             Alsace|             null|        Roger Voss|           @vossroger|Leon Beyer 2012 G...|    Gewürztraminer|         Leon Beyer|\n",
            "| 12|       US|Slightly reduced,...|                null|    87|   34|       California|   Alexander Valley|           Sonoma|    Virginie Boone|              @vboone|Louis M. Martini ...|Cabernet Sauvignon|   Louis M. Martini|\n",
            "| 13|    Italy|This is dominated...|               Rosso|    87| null|Sicily & Sardinia|               Etna|             null|     Kerin O’Keefe|         @kerinokeefe|Masseria Settepor...| Nerello Mascalese|Masseria Setteporte|\n",
            "| 14|       US|Building on 150 y...|                null|    87|   12|       California|      Central Coast|    Central Coast|     Matt Kettmann|        @mattkettmann|Mirassou 2012 Cha...|        Chardonnay|           Mirassou|\n",
            "| 15|  Germany|Zesty orange peel...|               Devon|    87|   24|            Mosel|               null|             null|Anna Lee C. Iijima|                 null|Richard Böcking 2...|          Riesling|    Richard Böcking|\n",
            "| 16|Argentina|Baked plum, molas...|               Felix|    87|   30|            Other|           Cafayate|             null| Michael Schachner|          @wineschach|Felix Lavaque 201...|            Malbec|      Felix Lavaque|\n",
            "| 17|Argentina|Raw black-cherry ...| Winemaker Selection|    87|   13| Mendoza Province|            Mendoza|             null| Michael Schachner|          @wineschach|Gaucho Andino 201...|            Malbec|      Gaucho Andino|\n",
            "| 18|    Spain|Desiccated blackb...|Vendimia Seleccio...|    87|   28|   Northern Spain|   Ribera del Duero|             null| Michael Schachner|          @wineschach|Pradorey 2010 Ven...| Tempranillo Blend|           Pradorey|\n",
            "| 19|       US|Red fruit aromas ...|                null|    87|   32|         Virginia|           Virginia|             null|Alexander Peartree|                 null|Quiévremont 2012 ...|          Meritage|        Quiévremont|\n",
            "+---+---------+--------------------+--------------------+------+-----+-----------------+-------------------+-----------------+------------------+---------------------+--------------------+------------------+-------------------+\n",
            "only showing top 20 rows\n",
            "\n"
          ]
        }
      ]
    },
    {
      "cell_type": "code",
      "source": [
        "print((dt.count(), len(dt.columns)))"
      ],
      "metadata": {
        "colab": {
          "base_uri": "https://localhost:8080/"
        },
        "id": "_ejDST14ujpP",
        "outputId": "3bf554b1-985b-4816-878f-088ddda02945"
      },
      "execution_count": 91,
      "outputs": [
        {
          "output_type": "stream",
          "name": "stdout",
          "text": [
            "(129975, 14)\n"
          ]
        }
      ]
    },
    {
      "cell_type": "code",
      "source": [
        "dt.dropDuplicates().count()\n"
      ],
      "metadata": {
        "colab": {
          "base_uri": "https://localhost:8080/"
        },
        "id": "tm_CTENtQmie",
        "outputId": "4faf3816-702f-4b6a-80d9-f20dba7c77b3"
      },
      "execution_count": 92,
      "outputs": [
        {
          "output_type": "execute_result",
          "data": {
            "text/plain": [
              "129975"
            ]
          },
          "metadata": {},
          "execution_count": 92
        }
      ]
    },
    {
      "cell_type": "code",
      "source": [
        "dt.summary().show()"
      ],
      "metadata": {
        "colab": {
          "base_uri": "https://localhost:8080/"
        },
        "id": "RwF54g1mvXqb",
        "outputId": "6f9e9168-a853-4024-a834-b3628859b0dd"
      },
      "execution_count": 93,
      "outputs": [
        {
          "output_type": "stream",
          "name": "stdout",
          "text": [
            "+-------+-----------------+--------------------+--------------------+--------------------+--------------------+--------------------+--------------------+--------------------+--------------------+--------------------+---------------------+--------------------+--------------------+--------------------+\n",
            "|summary|               id|             country|         description|         designation|              points|               price|            province|            region_1|            region_2|         taster_name|taster_twitter_handle|               title|             variety|              winery|\n",
            "+-------+-----------------+--------------------+--------------------+--------------------+--------------------+--------------------+--------------------+--------------------+--------------------+--------------------+---------------------+--------------------+--------------------+--------------------+\n",
            "|  count|           129975|              129912|              129974|               92513|              129966|              120976|              129909|              108734|               50521|              103726|                98762|              129965|              129963|              129963|\n",
            "|   mean|          64985.0|                90.0|                20.0|  1478.0204093567252|   88.44617681462783|   35.36592645259433|   47.61538461538461|   77.66666666666667|                83.5|                78.0|                 29.4|                59.0|                88.0|            Infinity|\n",
            "| stddev|37519.54025571209|                null|                null|   7075.198722438356|   3.047893435122091|   41.02276084008642|  33.432864224538264|   77.94271400629226|  15.758595538097083|     26.229754097208|    31.24579971772206|   49.49747468305833|                 0.0|                 NaN|\n",
            "|    min|                0| fine and extreme...|         \"\"\"Chremisa| a firmly structu...| and it doesn't s...| a lot of other N...| 's a light- to m...| and a lot of wei...| almost sharp dri...| almost severe el...|  a wine that abso...| and a wine to dr...| but balanced and...| but try after 20...|\n",
            "|    25%|          32493.0|                90.0|                20.0|               120.0|                86.0|                17.0|                24.0|                20.0|                60.0|                84.0|                 17.0|                24.0|                88.0|                92.0|\n",
            "|    50%|          64974.0|                90.0|                20.0|               459.0|                88.0|                25.0|                25.0|                50.0|                89.0|                86.0|                 17.0|                24.0|                88.0|              1850.0|\n",
            "|    75%|          97484.0|                90.0|                20.0|              1769.0|                91.0|                42.0|                87.0|                93.0|                92.0|                89.0|                 18.0|                94.0|                88.0|              1850.0|\n",
            "|    max|          elegant|             Uruguay|“Wow” is the firs...|                 “P”|              Umriss|            Piedmont|                Župa|        Zonda Valley|   Willamette Valley|      Virginie Boone|               Oregon|Štoka 2011 Izbran...|             Žilavka|               Štoka|\n",
            "+-------+-----------------+--------------------+--------------------+--------------------+--------------------+--------------------+--------------------+--------------------+--------------------+--------------------+---------------------+--------------------+--------------------+--------------------+\n",
            "\n"
          ]
        }
      ]
    },
    {
      "cell_type": "code",
      "source": [
        "dt.summary(\"count\").show()"
      ],
      "metadata": {
        "colab": {
          "base_uri": "https://localhost:8080/"
        },
        "id": "YBaJFD9Mvp5l",
        "outputId": "42979423-95b3-4cc6-afa1-2b65ab9acd19"
      },
      "execution_count": 94,
      "outputs": [
        {
          "output_type": "stream",
          "name": "stdout",
          "text": [
            "+-------+------+-------+-----------+-----------+------+------+--------+--------+--------+-----------+---------------------+------+-------+------+\n",
            "|summary|    id|country|description|designation|points| price|province|region_1|region_2|taster_name|taster_twitter_handle| title|variety|winery|\n",
            "+-------+------+-------+-----------+-----------+------+------+--------+--------+--------+-----------+---------------------+------+-------+------+\n",
            "|  count|129975| 129912|     129974|      92513|129966|120976|  129909|  108734|   50521|     103726|                98762|129965| 129963|129963|\n",
            "+-------+------+-------+-----------+-----------+------+------+--------+--------+--------+-----------+---------------------+------+-------+------+\n",
            "\n"
          ]
        }
      ]
    },
    {
      "cell_type": "code",
      "source": [
        "dt = dt.drop('region_1','region_2','region_')\n",
        "dt.show()"
      ],
      "metadata": {
        "colab": {
          "base_uri": "https://localhost:8080/"
        },
        "id": "7tcK24XmN5Jp",
        "outputId": "903849e1-30ab-410e-994a-a2e625e00e4e"
      },
      "execution_count": 95,
      "outputs": [
        {
          "output_type": "stream",
          "name": "stdout",
          "text": [
            "+---+---------+--------------------+--------------------+------+-----+-----------------+------------------+---------------------+--------------------+------------------+-------------------+\n",
            "| id|  country|         description|         designation|points|price|         province|       taster_name|taster_twitter_handle|               title|           variety|             winery|\n",
            "+---+---------+--------------------+--------------------+------+-----+-----------------+------------------+---------------------+--------------------+------------------+-------------------+\n",
            "|  0|    Italy|Aromas include tr...|        Vulkà Bianco|    87| null|Sicily & Sardinia|     Kerin O’Keefe|         @kerinokeefe|Nicosia 2013 Vulk...|       White Blend|            Nicosia|\n",
            "|  1| Portugal|This is ripe and ...|            Avidagos|    87|   15|            Douro|        Roger Voss|           @vossroger|Quinta dos Avidag...|    Portuguese Red|Quinta dos Avidagos|\n",
            "|  2|       US|Tart and snappy, ...|                null|    87|   14|           Oregon|      Paul Gregutt|          @paulgwine |Rainstorm 2013 Pi...|        Pinot Gris|          Rainstorm|\n",
            "|  3|       US|Pineapple rind, l...|Reserve Late Harvest|    87|   13|         Michigan|Alexander Peartree|                 null|St. Julian 2013 R...|          Riesling|         St. Julian|\n",
            "|  4|       US|Much like the reg...|Vintner's Reserve...|    87|   65|           Oregon|      Paul Gregutt|          @paulgwine |Sweet Cheeks 2012...|        Pinot Noir|       Sweet Cheeks|\n",
            "|  5|    Spain|Blackberry and ra...|        Ars In Vitro|    87|   15|   Northern Spain| Michael Schachner|          @wineschach|Tandem 2011 Ars I...|Tempranillo-Merlot|             Tandem|\n",
            "|  6|    Italy|Here's a bright, ...|             Belsito|    87|   16|Sicily & Sardinia|     Kerin O’Keefe|         @kerinokeefe|Terre di Giurfo 2...|          Frappato|    Terre di Giurfo|\n",
            "|  7|   France|This dry and rest...|                null|    87|   24|           Alsace|        Roger Voss|           @vossroger|Trimbach 2012 Gew...|    Gewürztraminer|           Trimbach|\n",
            "|  8|  Germany|Savory dried thym...|               Shine|    87|   12|      Rheinhessen|Anna Lee C. Iijima|                 null|Heinz Eifel 2013 ...|    Gewürztraminer|        Heinz Eifel|\n",
            "|  9|   France|This has great de...|         Les Natures|    87|   27|           Alsace|        Roger Voss|           @vossroger|Jean-Baptiste Ada...|        Pinot Gris| Jean-Baptiste Adam|\n",
            "| 10|       US|Soft, supple plum...|      Mountain Cuvée|    87|   19|       California|    Virginie Boone|              @vboone|Kirkland Signatur...|Cabernet Sauvignon| Kirkland Signature|\n",
            "| 11|   France|This is a dry win...|                null|    87|   30|           Alsace|        Roger Voss|           @vossroger|Leon Beyer 2012 G...|    Gewürztraminer|         Leon Beyer|\n",
            "| 12|       US|Slightly reduced,...|                null|    87|   34|       California|    Virginie Boone|              @vboone|Louis M. Martini ...|Cabernet Sauvignon|   Louis M. Martini|\n",
            "| 13|    Italy|This is dominated...|               Rosso|    87| null|Sicily & Sardinia|     Kerin O’Keefe|         @kerinokeefe|Masseria Settepor...| Nerello Mascalese|Masseria Setteporte|\n",
            "| 14|       US|Building on 150 y...|                null|    87|   12|       California|     Matt Kettmann|        @mattkettmann|Mirassou 2012 Cha...|        Chardonnay|           Mirassou|\n",
            "| 15|  Germany|Zesty orange peel...|               Devon|    87|   24|            Mosel|Anna Lee C. Iijima|                 null|Richard Böcking 2...|          Riesling|    Richard Böcking|\n",
            "| 16|Argentina|Baked plum, molas...|               Felix|    87|   30|            Other| Michael Schachner|          @wineschach|Felix Lavaque 201...|            Malbec|      Felix Lavaque|\n",
            "| 17|Argentina|Raw black-cherry ...| Winemaker Selection|    87|   13| Mendoza Province| Michael Schachner|          @wineschach|Gaucho Andino 201...|            Malbec|      Gaucho Andino|\n",
            "| 18|    Spain|Desiccated blackb...|Vendimia Seleccio...|    87|   28|   Northern Spain| Michael Schachner|          @wineschach|Pradorey 2010 Ven...| Tempranillo Blend|           Pradorey|\n",
            "| 19|       US|Red fruit aromas ...|                null|    87|   32|         Virginia|Alexander Peartree|                 null|Quiévremont 2012 ...|          Meritage|        Quiévremont|\n",
            "+---+---------+--------------------+--------------------+------+-----+-----------------+------------------+---------------------+--------------------+------------------+-------------------+\n",
            "only showing top 20 rows\n",
            "\n"
          ]
        }
      ]
    },
    {
      "cell_type": "code",
      "source": [
        "dt.where( dt.points.isNull()).show()"
      ],
      "metadata": {
        "colab": {
          "base_uri": "https://localhost:8080/"
        },
        "id": "tz2glST8vrYA",
        "outputId": "043097e6-77e4-4510-f48c-17cdddecc5b4"
      },
      "execution_count": 96,
      "outputs": [
        {
          "output_type": "stream",
          "name": "stdout",
          "text": [
            "+--------------------+--------------------+--------------------+--------------------+------+-----+-------------+-----------+---------------------+------+--------------------+------------+\n",
            "|                  id|             country|         description|         designation|points|price|     province|taster_name|taster_twitter_handle| title|             variety|      winery|\n",
            "+--------------------+--------------------+--------------------+--------------------+------+-----+-------------+-----------+---------------------+------+--------------------+------------+\n",
            "|               18881|        South Africa|Notes of cocoa an...|Grand Classique C...|  null| null|         null|       null|                 null|  null|                null|        null|\n",
            "|Merlot-Cabernet F...|                  90|                  20|               Paarl|  null| null|Lauren Buzzeo|       null|                 null|  null|                null|        null|\n",
            "|Merlot-Cabernet F...|Bordeaux-style Re...|         Glen Carlou|                null|  null| null|         null|       null|                 null|  null|                null|        null|\n",
            "|               21516|               Italy|This offers gener...|                null|  null| null|         null|       null|                 null|  null|                null|        null|\n",
            "|               38059|         New Zealand|\"Austere and mine...| a firmly structu...|  null|   90|           19|       null|       Joe Czerwinski|@JoeCz|Esk Valley 2002 R...|    Riesling|\n",
            "|               38068|         New Zealand|\"The aromas are a...| this wine's rati...|  null|   89|           15|       null|       Joe Czerwinski|@JoeCz|Huia 2002 Rieslin...|    Riesling|\n",
            "|               51394|                  US|Brisk and clean, ...|                null|  null| null|         null|       null|                 null|  null|                null|        null|\n",
            "|               64137|               Italy|\"There's a slight...| showcasing ripe ...|  null|   90|           24|       null|       Joe Czerwinski|@JoeCz|Livio Felluga 200...|Pinot Grigio|\n",
            "|              115978|               Italy|\"This nicely stru...| bitter almond an...|  null|   88|           24|       null|                 null|  null|Le Vigne di Zamò ...|Pinot Grigio|\n",
            "+--------------------+--------------------+--------------------+--------------------+------+-----+-------------+-----------+---------------------+------+--------------------+------------+\n",
            "\n"
          ]
        }
      ]
    },
    {
      "cell_type": "code",
      "source": [
        "dt.groupBy('taster_name').count().orderBy('count', ascending = False).show(38)"
      ],
      "metadata": {
        "colab": {
          "base_uri": "https://localhost:8080/"
        },
        "id": "6Mu4rr9ib11Q",
        "outputId": "aa83980f-9099-42a5-c808-c7107a97a100"
      },
      "execution_count": 97,
      "outputs": [
        {
          "output_type": "stream",
          "name": "stdout",
          "text": [
            "+--------------------+-----+\n",
            "|         taster_name|count|\n",
            "+--------------------+-----+\n",
            "|                null|26249|\n",
            "|          Roger Voss|25513|\n",
            "|   Michael Schachner|15133|\n",
            "|       Kerin O’Keefe|10776|\n",
            "|      Virginie Boone| 9537|\n",
            "|        Paul Gregutt| 9529|\n",
            "|       Matt Kettmann| 6332|\n",
            "|      Joe Czerwinski| 5139|\n",
            "|    Sean P. Sullivan| 4966|\n",
            "|  Anna Lee C. Iijima| 4415|\n",
            "|          Jim Gordon| 4177|\n",
            "|    Anne Krebiehl MW| 3683|\n",
            "|       Lauren Buzzeo| 1832|\n",
            "|     Susan Kostrzewa| 1085|\n",
            "|       Mike DeSimone|  514|\n",
            "|        Jeff Jenssen|  491|\n",
            "|  Alexander Peartree|  415|\n",
            "|        Carrie Dykes|  139|\n",
            "|         Fiona Adams|   27|\n",
            "|   Christina Pickard|    6|\n",
            "|                  89|    2|\n",
            "|   Chambolle-Musigny|    1|\n",
            "| there's remarkab...|    1|\n",
            "|                Etna|    1|\n",
            "|                  95|    1|\n",
            "|                  25|    1|\n",
            "|                  84|    1|\n",
            "| almost severe el...|    1|\n",
            "|          California|    1|\n",
            "| mocha and cinnam...|    1|\n",
            "|                  86|    1|\n",
            "|         Napa Valley|    1|\n",
            "| but you can cert...|    1|\n",
            "|       Central Coast|    1|\n",
            "|Edition Chremisa ...|    1|\n",
            "|        Finger Lakes|    1|\n",
            "+--------------------+-----+\n",
            "\n"
          ]
        }
      ]
    },
    {
      "cell_type": "code",
      "source": [
        "dt.where('''country in ('90',\n",
        "                        ' fine and extremely polished; hold for 10 years.\"',\n",
        "                        ' marked by tart citrus flavors that make it versatile with a wide range of foods.\"',\n",
        "                        'Bordeaux-style Red Blend')''').show()"
      ],
      "metadata": {
        "colab": {
          "base_uri": "https://localhost:8080/"
        },
        "id": "YzNxLo3IPoFR",
        "outputId": "74086bda-83db-47d1-f55d-f8ba0d361705"
      },
      "execution_count": 98,
      "outputs": [
        {
          "output_type": "stream",
          "name": "stdout",
          "text": [
            "+--------------------+--------------------+-----------+-----------+------+----------+-------------+-----------+---------------------+------------+-----------+------+\n",
            "|                  id|             country|description|designation|points|     price|     province|taster_name|taster_twitter_handle|       title|    variety|winery|\n",
            "+--------------------+--------------------+-----------+-----------+------+----------+-------------+-----------+---------------------+------------+-----------+------+\n",
            "|Merlot-Cabernet F...|                  90|         20|      Paarl|  null|      null|Lauren Buzzeo|       null|                 null|        null|       null|  null|\n",
            "|Merlot-Cabernet F...|Bordeaux-style Re...|Glen Carlou|       null|  null|      null|         null|       null|                 null|        null|       null|  null|\n",
            "|             elegant| fine and extreme...|     Ravera|         92|    71|  Piedmont|       Barolo|       null| Elvio Cogno 2008 ...|    Nebbiolo|Elvio Cogno|  null|\n",
            "|     anti-Chardonnay| marked by tart c...|       null|         85|    10|California|   California|       null| Montevina 2010 Pi...|Pinot Grigio|  Montevina|  null|\n",
            "+--------------------+--------------------+-----------+-----------+------+----------+-------------+-----------+---------------------+------------+-----------+------+\n",
            "\n"
          ]
        }
      ]
    },
    {
      "cell_type": "code",
      "source": [
        "dt_c = dt.groupBy('taster_name').count().orderBy('count', ascending = False)\n",
        "dt_c = dt_c.where('count == 1')\n",
        "dt_c.show()"
      ],
      "metadata": {
        "colab": {
          "base_uri": "https://localhost:8080/"
        },
        "id": "u6rUSNEcMPwA",
        "outputId": "d147dbf4-0805-4fc6-dc63-fe2eb99d6365"
      },
      "execution_count": 99,
      "outputs": [
        {
          "output_type": "stream",
          "name": "stdout",
          "text": [
            "+--------------------+-----+\n",
            "|         taster_name|count|\n",
            "+--------------------+-----+\n",
            "|   Chambolle-Musigny|    1|\n",
            "|                Etna|    1|\n",
            "| there's remarkab...|    1|\n",
            "|                  95|    1|\n",
            "| mocha and cinnam...|    1|\n",
            "|                  25|    1|\n",
            "|                  86|    1|\n",
            "|                  84|    1|\n",
            "|         Napa Valley|    1|\n",
            "| almost severe el...|    1|\n",
            "| but you can cert...|    1|\n",
            "|          California|    1|\n",
            "|        Finger Lakes|    1|\n",
            "|Edition Chremisa ...|    1|\n",
            "|       Central Coast|    1|\n",
            "+--------------------+-----+\n",
            "\n"
          ]
        }
      ]
    },
    {
      "cell_type": "code",
      "source": [
        "from pyspark.sql import functions as F, Window as W\n"
      ],
      "metadata": {
        "id": "3RbI_o8ORgcj"
      },
      "execution_count": 100,
      "outputs": []
    },
    {
      "cell_type": "code",
      "source": [
        "window = W.partitionBy(\"taster_name\")\n",
        "\n",
        "dt_name = dt.withColumn(\"count\", F.count(\"taster_name\").over(window))\\\n",
        "              .filter(F.col(\"count\") > 2).drop(\"count\")\n",
        "dt_name.groupBy('taster_name').count().orderBy('count', ascending = False).show(38)"
      ],
      "metadata": {
        "colab": {
          "base_uri": "https://localhost:8080/"
        },
        "id": "BJu3MeIyZ4XF",
        "outputId": "871da621-fbd3-45b0-be5f-06ca9fff16a4"
      },
      "execution_count": 101,
      "outputs": [
        {
          "output_type": "stream",
          "name": "stdout",
          "text": [
            "+------------------+-----+\n",
            "|       taster_name|count|\n",
            "+------------------+-----+\n",
            "|        Roger Voss|25513|\n",
            "| Michael Schachner|15133|\n",
            "|     Kerin O’Keefe|10776|\n",
            "|    Virginie Boone| 9537|\n",
            "|      Paul Gregutt| 9529|\n",
            "|     Matt Kettmann| 6332|\n",
            "|    Joe Czerwinski| 5139|\n",
            "|  Sean P. Sullivan| 4966|\n",
            "|Anna Lee C. Iijima| 4415|\n",
            "|        Jim Gordon| 4177|\n",
            "|  Anne Krebiehl MW| 3683|\n",
            "|     Lauren Buzzeo| 1832|\n",
            "|   Susan Kostrzewa| 1085|\n",
            "|     Mike DeSimone|  514|\n",
            "|      Jeff Jenssen|  491|\n",
            "|Alexander Peartree|  415|\n",
            "|      Carrie Dykes|  139|\n",
            "|       Fiona Adams|   27|\n",
            "| Christina Pickard|    6|\n",
            "+------------------+-----+\n",
            "\n"
          ]
        }
      ]
    },
    {
      "cell_type": "code",
      "source": [
        "dt = dt_name\n",
        "dt.groupBy('taster_name').count().orderBy('count', ascending = False).show()"
      ],
      "metadata": {
        "colab": {
          "base_uri": "https://localhost:8080/"
        },
        "id": "yIhXgqXedijh",
        "outputId": "b7aad8d4-a21c-4471-f769-e48d0208daec"
      },
      "execution_count": 102,
      "outputs": [
        {
          "output_type": "stream",
          "name": "stdout",
          "text": [
            "+------------------+-----+\n",
            "|       taster_name|count|\n",
            "+------------------+-----+\n",
            "|        Roger Voss|25513|\n",
            "| Michael Schachner|15133|\n",
            "|     Kerin O’Keefe|10776|\n",
            "|    Virginie Boone| 9537|\n",
            "|      Paul Gregutt| 9529|\n",
            "|     Matt Kettmann| 6332|\n",
            "|    Joe Czerwinski| 5139|\n",
            "|  Sean P. Sullivan| 4966|\n",
            "|Anna Lee C. Iijima| 4415|\n",
            "|        Jim Gordon| 4177|\n",
            "|  Anne Krebiehl MW| 3683|\n",
            "|     Lauren Buzzeo| 1832|\n",
            "|   Susan Kostrzewa| 1085|\n",
            "|     Mike DeSimone|  514|\n",
            "|      Jeff Jenssen|  491|\n",
            "|Alexander Peartree|  415|\n",
            "|      Carrie Dykes|  139|\n",
            "|       Fiona Adams|   27|\n",
            "| Christina Pickard|    6|\n",
            "+------------------+-----+\n",
            "\n"
          ]
        }
      ]
    },
    {
      "cell_type": "code",
      "source": [
        "dt.select(\"country\").distinct().count()"
      ],
      "metadata": {
        "colab": {
          "base_uri": "https://localhost:8080/"
        },
        "id": "MXY2rssfDwGI",
        "outputId": "fd08645d-6872-4a40-c670-901e1cc6ecf8"
      },
      "execution_count": 103,
      "outputs": [
        {
          "output_type": "execute_result",
          "data": {
            "text/plain": [
              "44"
            ]
          },
          "metadata": {},
          "execution_count": 103
        }
      ]
    },
    {
      "cell_type": "code",
      "source": [
        "dt.select(\"country\").distinct().sort(\"country\").show( 48, False )"
      ],
      "metadata": {
        "colab": {
          "base_uri": "https://localhost:8080/"
        },
        "id": "NiuSWfrkD31Q",
        "outputId": "53fd5376-f629-4873-c4a3-8ba6d8de998a"
      },
      "execution_count": 104,
      "outputs": [
        {
          "output_type": "stream",
          "name": "stdout",
          "text": [
            "+----------------------+\n",
            "|country               |\n",
            "+----------------------+\n",
            "|null                  |\n",
            "|Argentina             |\n",
            "|Armenia               |\n",
            "|Australia             |\n",
            "|Austria               |\n",
            "|Bosnia and Herzegovina|\n",
            "|Brazil                |\n",
            "|Bulgaria              |\n",
            "|Canada                |\n",
            "|Chile                 |\n",
            "|China                 |\n",
            "|Croatia               |\n",
            "|Cyprus                |\n",
            "|Czech Republic        |\n",
            "|Egypt                 |\n",
            "|England               |\n",
            "|France                |\n",
            "|Georgia               |\n",
            "|Germany               |\n",
            "|Greece                |\n",
            "|Hungary               |\n",
            "|India                 |\n",
            "|Israel                |\n",
            "|Italy                 |\n",
            "|Lebanon               |\n",
            "|Luxembourg            |\n",
            "|Macedonia             |\n",
            "|Mexico                |\n",
            "|Moldova               |\n",
            "|Morocco               |\n",
            "|New Zealand           |\n",
            "|Peru                  |\n",
            "|Portugal              |\n",
            "|Romania               |\n",
            "|Serbia                |\n",
            "|Slovakia              |\n",
            "|Slovenia              |\n",
            "|South Africa          |\n",
            "|Spain                 |\n",
            "|Switzerland           |\n",
            "|Turkey                |\n",
            "|US                    |\n",
            "|Ukraine               |\n",
            "|Uruguay               |\n",
            "+----------------------+\n",
            "\n"
          ]
        }
      ]
    },
    {
      "cell_type": "code",
      "source": [
        "dt.groupBy('country').count().orderBy('count', ascending = False).show(48, False)"
      ],
      "metadata": {
        "colab": {
          "base_uri": "https://localhost:8080/"
        },
        "id": "QBxCHZnuFlwc",
        "outputId": "87741367-f62e-466d-c837-1786010f260c"
      },
      "execution_count": 105,
      "outputs": [
        {
          "output_type": "stream",
          "name": "stdout",
          "text": [
            "+----------------------+-----+\n",
            "|country               |count|\n",
            "+----------------------+-----+\n",
            "|US                    |37726|\n",
            "|France                |21827|\n",
            "|Italy                 |11041|\n",
            "|Spain                 |6580 |\n",
            "|Portugal              |5686 |\n",
            "|Chile                 |4361 |\n",
            "|Argentina             |3797 |\n",
            "|Austria               |3334 |\n",
            "|Germany               |2134 |\n",
            "|Australia             |2037 |\n",
            "|South Africa          |1326 |\n",
            "|New Zealand           |1306 |\n",
            "|Israel                |500  |\n",
            "|Greece                |466  |\n",
            "|Canada                |256  |\n",
            "|Hungary               |145  |\n",
            "|Bulgaria              |141  |\n",
            "|Romania               |120  |\n",
            "|Uruguay               |109  |\n",
            "|Turkey                |90   |\n",
            "|Slovenia              |87   |\n",
            "|Georgia               |86   |\n",
            "|England               |74   |\n",
            "|Croatia               |73   |\n",
            "|Mexico                |65   |\n",
            "|null                  |62   |\n",
            "|Moldova               |59   |\n",
            "|Brazil                |52   |\n",
            "|Lebanon               |35   |\n",
            "|Morocco               |28   |\n",
            "|Peru                  |16   |\n",
            "|Ukraine               |14   |\n",
            "|Macedonia             |12   |\n",
            "|Serbia                |12   |\n",
            "|Czech Republic        |12   |\n",
            "|Cyprus                |11   |\n",
            "|India                 |9    |\n",
            "|Switzerland           |7    |\n",
            "|Luxembourg            |6    |\n",
            "|Armenia               |2    |\n",
            "|Bosnia and Herzegovina|2    |\n",
            "|Slovakia              |1    |\n",
            "|China                 |1    |\n",
            "|Egypt                 |1    |\n",
            "+----------------------+-----+\n",
            "\n"
          ]
        }
      ]
    },
    {
      "cell_type": "code",
      "source": [
        "window_c = W.partitionBy(\"country\")\n",
        "\n",
        "dt_country = dt.withColumn(\"count\", F.count(\"country\").over(window_c))\\\n",
        "              .filter(F.col(\"count\") > 1).drop(\"count\")\n",
        "dt_country.groupBy('country').count().orderBy('count', ascending = False).show(48)"
      ],
      "metadata": {
        "colab": {
          "base_uri": "https://localhost:8080/"
        },
        "id": "nqxwBmRucwwS",
        "outputId": "2992575b-ec45-4903-c5d9-ac36c8736d05"
      },
      "execution_count": 106,
      "outputs": [
        {
          "output_type": "stream",
          "name": "stdout",
          "text": [
            "+--------------------+-----+\n",
            "|             country|count|\n",
            "+--------------------+-----+\n",
            "|                  US|37726|\n",
            "|              France|21827|\n",
            "|               Italy|11041|\n",
            "|               Spain| 6580|\n",
            "|            Portugal| 5686|\n",
            "|               Chile| 4361|\n",
            "|           Argentina| 3797|\n",
            "|             Austria| 3334|\n",
            "|             Germany| 2134|\n",
            "|           Australia| 2037|\n",
            "|        South Africa| 1326|\n",
            "|         New Zealand| 1306|\n",
            "|              Israel|  500|\n",
            "|              Greece|  466|\n",
            "|              Canada|  256|\n",
            "|             Hungary|  145|\n",
            "|            Bulgaria|  141|\n",
            "|             Romania|  120|\n",
            "|             Uruguay|  109|\n",
            "|              Turkey|   90|\n",
            "|            Slovenia|   87|\n",
            "|             Georgia|   86|\n",
            "|             England|   74|\n",
            "|             Croatia|   73|\n",
            "|              Mexico|   65|\n",
            "|             Moldova|   59|\n",
            "|              Brazil|   52|\n",
            "|             Lebanon|   35|\n",
            "|             Morocco|   28|\n",
            "|                Peru|   16|\n",
            "|             Ukraine|   14|\n",
            "|              Serbia|   12|\n",
            "|           Macedonia|   12|\n",
            "|      Czech Republic|   12|\n",
            "|              Cyprus|   11|\n",
            "|               India|    9|\n",
            "|         Switzerland|    7|\n",
            "|          Luxembourg|    6|\n",
            "|             Armenia|    2|\n",
            "|Bosnia and Herzeg...|    2|\n",
            "+--------------------+-----+\n",
            "\n"
          ]
        }
      ]
    },
    {
      "cell_type": "code",
      "source": [
        "dt_cnt = dt_country.groupBy('country').count().orderBy('count', ascending = False)\n",
        "dt_cnt.show(44)"
      ],
      "metadata": {
        "colab": {
          "base_uri": "https://localhost:8080/"
        },
        "id": "2QGQbcSCnscf",
        "outputId": "e6c02e6d-f86d-4c65-cfd9-a7fded2f5dc7"
      },
      "execution_count": 107,
      "outputs": [
        {
          "output_type": "stream",
          "name": "stdout",
          "text": [
            "+--------------------+-----+\n",
            "|             country|count|\n",
            "+--------------------+-----+\n",
            "|                  US|37726|\n",
            "|              France|21827|\n",
            "|               Italy|11041|\n",
            "|               Spain| 6580|\n",
            "|            Portugal| 5686|\n",
            "|               Chile| 4361|\n",
            "|           Argentina| 3797|\n",
            "|             Austria| 3334|\n",
            "|             Germany| 2134|\n",
            "|           Australia| 2037|\n",
            "|        South Africa| 1326|\n",
            "|         New Zealand| 1306|\n",
            "|              Israel|  500|\n",
            "|              Greece|  466|\n",
            "|              Canada|  256|\n",
            "|             Hungary|  145|\n",
            "|            Bulgaria|  141|\n",
            "|             Romania|  120|\n",
            "|             Uruguay|  109|\n",
            "|              Turkey|   90|\n",
            "|            Slovenia|   87|\n",
            "|             Georgia|   86|\n",
            "|             England|   74|\n",
            "|             Croatia|   73|\n",
            "|              Mexico|   65|\n",
            "|             Moldova|   59|\n",
            "|              Brazil|   52|\n",
            "|             Lebanon|   35|\n",
            "|             Morocco|   28|\n",
            "|                Peru|   16|\n",
            "|             Ukraine|   14|\n",
            "|              Serbia|   12|\n",
            "|           Macedonia|   12|\n",
            "|      Czech Republic|   12|\n",
            "|              Cyprus|   11|\n",
            "|               India|    9|\n",
            "|         Switzerland|    7|\n",
            "|          Luxembourg|    6|\n",
            "|             Armenia|    2|\n",
            "|Bosnia and Herzeg...|    2|\n",
            "+--------------------+-----+\n",
            "\n"
          ]
        }
      ]
    },
    {
      "cell_type": "code",
      "source": [
        "dt_null_c = dt.filter(\"country IS NULL\")\n",
        "dt_null_c.show()"
      ],
      "metadata": {
        "colab": {
          "base_uri": "https://localhost:8080/"
        },
        "id": "q8b4n5ByEMVq",
        "outputId": "17d6c0e6-9125-4472-b591-fa4ddebe8557"
      },
      "execution_count": 108,
      "outputs": [
        {
          "output_type": "stream",
          "name": "stdout",
          "text": [
            "+------+-------+--------------------+--------------------+------+-----+--------+----------------+---------------------+--------------------+--------------------+-----------------+\n",
            "|    id|country|         description|         designation|points|price|province|     taster_name|taster_twitter_handle|               title|             variety|           winery|\n",
            "+------+-------+--------------------+--------------------+------+-----+--------+----------------+---------------------+--------------------+--------------------+-----------------+\n",
            "|  3131|   null|Soft, fruity and ...|            Partager|    83| null|    null|      Roger Voss|           @vossroger|Barton & Guestier...|           Red Blend|Barton & Guestier|\n",
            "| 11348|   null|Light and fruity,...|            Partager|    82| null|    null|      Roger Voss|           @vossroger|Barton & Guestier...|         White Blend|Barton & Guestier|\n",
            "|  9509|   null|This mouthwaterin...|Theopetra Malagou...|    92|   28|    null| Susan Kostrzewa|        @suskostrzewa|Tsililis 2015 The...|         White Blend|         Tsililis|\n",
            "| 18075|   null|Delicate white fl...|           Askitikos|    90|   17|    null| Susan Kostrzewa|        @suskostrzewa|Tsililis 2015 Ask...|           Assyrtiko|         Tsililis|\n",
            "| 60678|   null|This wine was mad...|                 Dry|    86|   17|    null| Susan Kostrzewa|        @suskostrzewa|Ktima Voyatzi 201...|                Rosé|    Ktima Voyatzi|\n",
            "|100570|   null|Plum, black cherr...|    Theopetra Estate|    87|   37|    null| Susan Kostrzewa|        @suskostrzewa|Tsililis 2012 The...|           Red Blend|         Tsililis|\n",
            "|120799|   null|Cigar box, cedar ...|                null|    90|   27|    null| Susan Kostrzewa|        @suskostrzewa|Ktima Voyatzi 201...|        Tsapournakos|    Ktima Voyatzi|\n",
            "| 27822|   null|This is a reasona...|                null|    86|   19|    null|  Joe Czerwinski|               @JoeCz|Mt. Beautiful 201...|          Pinot Gris|    Mt. Beautiful|\n",
            "|106170|   null|This is a reasona...|                null|    86|   19|    null|  Joe Czerwinski|               @JoeCz|Mt. Beautiful 201...|          Pinot Gris|    Mt. Beautiful|\n",
            "| 38240|   null|Subdued citrus an...|  Steirische Klassik|    89|   24|    null|Anne Krebiehl MW|          @AnneInVino|Neumeister 2015 S...|       Grauburgunder|       Neumeister|\n",
            "| 44674|   null|Crisp apple fresh...|  Steirische Klassik|    91|   25|    null|Anne Krebiehl MW|          @AnneInVino|Neumeister 2016 S...|       Grauburgunder|       Neumeister|\n",
            "| 45247|   null|Just a whiff of c...|  Steirische Klassik|    89|   25|    null|Anne Krebiehl MW|          @AnneInVino|Neumeister 2016 S...|     Sauvignon Blanc|       Neumeister|\n",
            "| 59670|   null|The heady florali...|            Steintal|    92|   38|    null|Anne Krebiehl MW|          @AnneInVino|Neumeister 2015 S...|      Roter Traminer|       Neumeister|\n",
            "| 85821|   null|A neutral nose le...|  Steirische Klassik|    90|   22|    null|Anne Krebiehl MW|          @AnneInVino|Neumeister 2015 S...|            Morillon|       Neumeister|\n",
            "| 95176|   null|Aromatic hints of...|             Klausen|    91|   38|    null|Anne Krebiehl MW|          @AnneInVino|Neumeister 2015 K...|     Sauvignon Blanc|       Neumeister|\n",
            "| 97850|   null|Streaks of blosso...|     Gemischter Satz|    89|   17|    null|Anne Krebiehl MW|          @AnneInVino|Neumeister 2016 G...|Austrian white blend|       Neumeister|\n",
            "|105167|   null|A lively whiff of...|  Steirische Klassik|    92|   21|    null|Anne Krebiehl MW|          @AnneInVino|Neumeister 2016 S...|  Gelber Muskateller|       Neumeister|\n",
            "|116307|   null|A lively whiff of...|  Steirische Klassik|    92|   21|    null|Anne Krebiehl MW|          @AnneInVino|Neumeister 2016 S...|  Gelber Muskateller|       Neumeister|\n",
            "| 38898|   null|Scents of clover,...|Wismer-Parke Vine...|    89|   34|    null|    Paul Gregutt|          @paulgwine |Bachelder 2014 Wi...|          Pinot Noir|        Bachelder|\n",
            "| 16749|   null|Winemaker: Bartho...|Cape Winemakers G...|    91| null|    null|   Lauren Buzzeo|            @laurbuzz|Bartho Eksteen 20...|     Sauvignon Blanc|   Bartho Eksteen|\n",
            "+------+-------+--------------------+--------------------+------+-----+--------+----------------+---------------------+--------------------+--------------------+-----------------+\n",
            "only showing top 20 rows\n",
            "\n"
          ]
        }
      ]
    },
    {
      "cell_type": "code",
      "source": [
        "dt.show()"
      ],
      "metadata": {
        "id": "UEQuTqFsLcU2",
        "colab": {
          "base_uri": "https://localhost:8080/"
        },
        "outputId": "c625bd6c-f70f-44c3-9882-63849055ffbb"
      },
      "execution_count": 109,
      "outputs": [
        {
          "output_type": "stream",
          "name": "stdout",
          "text": [
            "+---+------------+--------------------+--------------------+------+-----+--------------------+-----------+---------------------+--------------------+--------------------+--------------------+\n",
            "| id|     country|         description|         designation|points|price|            province|taster_name|taster_twitter_handle|               title|             variety|              winery|\n",
            "+---+------------+--------------------+--------------------+------+-----+--------------------+-----------+---------------------+--------------------+--------------------+--------------------+\n",
            "|  1|    Portugal|This is ripe and ...|            Avidagos|    87|   15|               Douro| Roger Voss|           @vossroger|Quinta dos Avidag...|      Portuguese Red| Quinta dos Avidagos|\n",
            "|  7|      France|This dry and rest...|                null|    87|   24|              Alsace| Roger Voss|           @vossroger|Trimbach 2012 Gew...|      Gewürztraminer|            Trimbach|\n",
            "|  9|      France|This has great de...|         Les Natures|    87|   27|              Alsace| Roger Voss|           @vossroger|Jean-Baptiste Ada...|          Pinot Gris|  Jean-Baptiste Adam|\n",
            "| 11|      France|This is a dry win...|                null|    87|   30|              Alsace| Roger Voss|           @vossroger|Leon Beyer 2012 G...|      Gewürztraminer|          Leon Beyer|\n",
            "| 30|      France|Red cherry fruit ...|             Nouveau|    86| null|          Beaujolais| Roger Voss|           @vossroger|Domaine de la Mad...|               Gamay|Domaine de la Madone|\n",
            "| 42|      France|This is a festive...|             Nouveau|    86|    9|          Beaujolais| Roger Voss|           @vossroger|Henry Fessy 2012 ...|               Gamay|         Henry Fessy|\n",
            "| 49|      France|Soft and fruity, ...|          Eté Indien|    86|   14|          Beaujolais| Roger Voss|           @vossroger|Vignerons de Bel ...|               Gamay|Vignerons de Bel Air|\n",
            "| 53|      France|Fruity and lightl...|   La Fleur d'Amélie|    85|   15|            Bordeaux| Roger Voss|           @vossroger|Château de Sours ...|Bordeaux-style Wh...|    Château de Sours|\n",
            "| 63|      France|This fat, yeasty ...|           Brut Rosé|    86|   58|           Champagne| Roger Voss|           @vossroger|Roland Champion N...|     Champagne Blend|     Roland Champion|\n",
            "| 65|      France|From the warm 201...|                null|    86|   24|            Burgundy| Roger Voss|           @vossroger|Simonnet-Febvre 2...|          Chardonnay|     Simonnet-Febvre|\n",
            "| 66|      France|This soft, rounde...|                null|    86|   15|            Burgundy| Roger Voss|           @vossroger|Vignerons des Ter...|          Chardonnay|Vignerons des Ter...|\n",
            "| 69|      France|This cooperative,...|           Brut Rosé|    86|   55|           Champagne| Roger Voss|           @vossroger|Collet NV Brut Ro...|     Champagne Blend|              Collet|\n",
            "| 79|    Portugal|Grown on the sand...|              Bridão|    86| null|                Tejo| Roger Voss|           @vossroger|Adega Cooperativa...|    Touriga Nacional|Adega Cooperativa...|\n",
            "| 82|      France|This fruity, swee...|          La Réserve|    86|   11|        France Other| Roger Voss|           @vossroger|Lionel Osmin & Ci...|       Petit Manseng|  Lionel Osmin & Cie|\n",
            "| 95|      France|This is a dense w...|                null|    88|   20|          Beaujolais| Roger Voss|           @vossroger|Henry Fessy 2015 ...|               Gamay|         Henry Fessy|\n",
            "| 96|      France|The wine comes fr...|                null|    88|   18|          Beaujolais| Roger Voss|           @vossroger|Henry Fessy 2015 ...|               Gamay|         Henry Fessy|\n",
            "|110|      France|Produced from cru...|      Les Quartelets|    87|   23|          Beaujolais| Roger Voss|           @vossroger|Pardon et Fils 20...|               Gamay|      Pardon et Fils|\n",
            "|125|South Africa|Etienne Le Riche ...|Cabernet Sauvigno...|    91|   45|        Stellenbosch| Roger Voss|           @vossroger|Le Riche 2003 Cab...|  Cabernet Sauvignon|            Le Riche|\n",
            "|132|South Africa|A Cabernet-domina...|       Grand Reserve|    91|   30|Simonsberg-Stelle...| Roger Voss|           @vossroger|Delheim 2001 Gran...|  Cabernet Sauvignon|             Delheim|\n",
            "|137|South Africa|This is great Che...|     Hope Marguerite|    90| null|          Walker Bay| Roger Voss|           @vossroger|Beaumont 2005 Hop...|        Chenin Blanc|            Beaumont|\n",
            "+---+------------+--------------------+--------------------+------+-----+--------------------+-----------+---------------------+--------------------+--------------------+--------------------+\n",
            "only showing top 20 rows\n",
            "\n"
          ]
        }
      ]
    },
    {
      "cell_type": "code",
      "source": [
        "dt.groupBy('points').count().orderBy('points', ascending = True).show(100)"
      ],
      "metadata": {
        "id": "PMxdNBAuMEKs",
        "colab": {
          "base_uri": "https://localhost:8080/"
        },
        "outputId": "d81e2115-57fc-455b-fed3-c344bdc5a94c"
      },
      "execution_count": 110,
      "outputs": [
        {
          "output_type": "stream",
          "name": "stdout",
          "text": [
            "+------+-----+\n",
            "|points|count|\n",
            "+------+-----+\n",
            "|   100|   14|\n",
            "|    80|  275|\n",
            "|    81|  433|\n",
            "|    82| 1054|\n",
            "|    83| 2112|\n",
            "|    84| 4394|\n",
            "|    85| 7132|\n",
            "|    86| 9578|\n",
            "|    87|12870|\n",
            "|    88|14355|\n",
            "|    89|10656|\n",
            "|    90|12942|\n",
            "|    91| 9765|\n",
            "|    92| 7832|\n",
            "|    93| 5405|\n",
            "|    94| 3018|\n",
            "|    95| 1221|\n",
            "|    96|  405|\n",
            "|    97|  166|\n",
            "|    98|   61|\n",
            "|    99|   21|\n",
            "+------+-----+\n",
            "\n"
          ]
        }
      ]
    },
    {
      "cell_type": "code",
      "source": [
        "window_points = W.partitionBy(\"points\")\n",
        "\n",
        "dt_point = dt.withColumn(\"count\", F.count(\"points\").over(window_points))\\\n",
        "              .filter(F.col(\"count\") > 3).drop(\"count\")\n",
        "dt_point.groupBy('points').count().orderBy('count', ascending = False).show(48)\n"
      ],
      "metadata": {
        "colab": {
          "base_uri": "https://localhost:8080/"
        },
        "id": "suA6B_MU0dXV",
        "outputId": "65b8dcaa-6600-40cc-e4d0-f6837925a070"
      },
      "execution_count": 111,
      "outputs": [
        {
          "output_type": "stream",
          "name": "stdout",
          "text": [
            "+------+-----+\n",
            "|points|count|\n",
            "+------+-----+\n",
            "|    88|14355|\n",
            "|    90|12942|\n",
            "|    87|12870|\n",
            "|    89|10656|\n",
            "|    91| 9765|\n",
            "|    86| 9578|\n",
            "|    92| 7832|\n",
            "|    85| 7132|\n",
            "|    93| 5405|\n",
            "|    84| 4394|\n",
            "|    94| 3018|\n",
            "|    83| 2112|\n",
            "|    95| 1221|\n",
            "|    82| 1054|\n",
            "|    81|  433|\n",
            "|    96|  405|\n",
            "|    80|  275|\n",
            "|    97|  166|\n",
            "|    98|   61|\n",
            "|    99|   21|\n",
            "|   100|   14|\n",
            "+------+-----+\n",
            "\n"
          ]
        }
      ]
    },
    {
      "cell_type": "code",
      "source": [
        "dt.filter(\"variety IS NULL\").count()"
      ],
      "metadata": {
        "colab": {
          "base_uri": "https://localhost:8080/"
        },
        "id": "xetWHPsZydDi",
        "outputId": "45cb8321-7b44-4086-f1cb-41c118d89c01"
      },
      "execution_count": 112,
      "outputs": [
        {
          "output_type": "execute_result",
          "data": {
            "text/plain": [
              "0"
            ]
          },
          "metadata": {},
          "execution_count": 112
        }
      ]
    },
    {
      "cell_type": "code",
      "source": [
        "dt.groupBy('variety').count().orderBy('count', ascending = False).show(20)"
      ],
      "metadata": {
        "colab": {
          "base_uri": "https://localhost:8080/"
        },
        "id": "mV-ikY40zzJX",
        "outputId": "a0983b8d-801a-4d61-c2eb-011647e8f1aa"
      },
      "execution_count": 113,
      "outputs": [
        {
          "output_type": "stream",
          "name": "stdout",
          "text": [
            "+--------------------+-----+\n",
            "|             variety|count|\n",
            "+--------------------+-----+\n",
            "|          Pinot Noir|10317|\n",
            "|          Chardonnay| 8942|\n",
            "|           Red Blend| 7108|\n",
            "|Bordeaux-style Re...| 6389|\n",
            "|  Cabernet Sauvignon| 6271|\n",
            "|            Riesling| 4930|\n",
            "|     Sauvignon Blanc| 4018|\n",
            "|                Rosé| 3315|\n",
            "|               Syrah| 3140|\n",
            "|              Malbec| 2583|\n",
            "|      Portuguese Red| 2466|\n",
            "|              Merlot| 2099|\n",
            "|          Sangiovese| 1997|\n",
            "|            Nebbiolo| 1981|\n",
            "|         White Blend| 1778|\n",
            "|         Tempranillo| 1755|\n",
            "|     Sparkling Blend| 1730|\n",
            "|           Zinfandel| 1580|\n",
            "|          Pinot Gris| 1338|\n",
            "|    Grüner Veltliner| 1335|\n",
            "+--------------------+-----+\n",
            "only showing top 20 rows\n",
            "\n"
          ]
        }
      ]
    },
    {
      "cell_type": "code",
      "source": [
        "window_variety= W.partitionBy(\"variety\")\n",
        "\n",
        "dt_variety = dt.withColumn(\"count\", F.count(\"variety\").over(window_variety))\\\n",
        "              .filter(F.col(\"count\") > 20).drop(\"count\")\n",
        "dt_variety.groupBy('variety').count().orderBy('count', ascending = True).show()\n"
      ],
      "metadata": {
        "colab": {
          "base_uri": "https://localhost:8080/"
        },
        "id": "uz6fr1z43jmF",
        "outputId": "ef72b6af-0659-4058-82f0-60ec0e535e1c"
      },
      "execution_count": 114,
      "outputs": [
        {
          "output_type": "stream",
          "name": "stdout",
          "text": [
            "+--------------------+-----+\n",
            "|             variety|count|\n",
            "+--------------------+-----+\n",
            "|    Monastrell-Syrah|   21|\n",
            "|           Colombard|   21|\n",
            "|       Verdejo-Viura|   22|\n",
            "|              Kerner|   22|\n",
            "|            Savagnin|   22|\n",
            "|             Macabeo|   23|\n",
            "|             Schiava|   23|\n",
            "|          Gamay Noir|   23|\n",
            "|           Teroldego|   23|\n",
            "|      Muskat Ottonel|   23|\n",
            "|               Bobal|   23|\n",
            "|           Scheurebe|   23|\n",
            "|      Welschriesling|   24|\n",
            "|              Tokaji|   24|\n",
            "|              Claret|   24|\n",
            "|            Jacquère|   24|\n",
            "|            Pecorino|   24|\n",
            "|Cabernet Sauvigno...|   25|\n",
            "|        Gros Manseng|   25|\n",
            "|            Frappato|   26|\n",
            "+--------------------+-----+\n",
            "only showing top 20 rows\n",
            "\n"
          ]
        }
      ]
    },
    {
      "cell_type": "code",
      "source": [
        "dt = dt_variety\n",
        "dt.groupBy('variety').count().orderBy('count', ascending = True).show(50)"
      ],
      "metadata": {
        "colab": {
          "base_uri": "https://localhost:8080/"
        },
        "id": "aFlSMnqg3wT-",
        "outputId": "c07d6c4c-285d-4eeb-a99e-3d9e346c1db8"
      },
      "execution_count": 115,
      "outputs": [
        {
          "output_type": "stream",
          "name": "stdout",
          "text": [
            "+--------------------+-----+\n",
            "|             variety|count|\n",
            "+--------------------+-----+\n",
            "|           Colombard|   21|\n",
            "|    Monastrell-Syrah|   21|\n",
            "|            Savagnin|   22|\n",
            "|              Kerner|   22|\n",
            "|       Verdejo-Viura|   22|\n",
            "|             Macabeo|   23|\n",
            "|           Scheurebe|   23|\n",
            "|             Schiava|   23|\n",
            "|               Bobal|   23|\n",
            "|          Gamay Noir|   23|\n",
            "|           Teroldego|   23|\n",
            "|      Muskat Ottonel|   23|\n",
            "|            Pecorino|   24|\n",
            "|              Claret|   24|\n",
            "|              Tokaji|   24|\n",
            "|      Welschriesling|   24|\n",
            "|            Jacquère|   24|\n",
            "|        Gros Manseng|   25|\n",
            "|Cabernet Sauvigno...|   25|\n",
            "|            Frappato|   26|\n",
            "|          Dornfelder|   26|\n",
            "|          Rotgipfler|   26|\n",
            "|         Trincadeira|   26|\n",
            "|             Aligoté|   27|\n",
            "|           Auxerrois|   27|\n",
            "|            Malvasia|   27|\n",
            "|           Carignane|   27|\n",
            "|Touriga Nacional-...|   28|\n",
            "|          Fumé Blanc|   29|\n",
            "| Chardonnay-Viognier|   29|\n",
            "|          Carricante|   29|\n",
            "|            Loureiro|   29|\n",
            "|                Baga|   29|\n",
            "|          Rkatsiteli|   30|\n",
            "|Shiraz-Cabernet S...|   30|\n",
            "|Merlot-Cabernet S...|   31|\n",
            "|     Tannat-Cabernet|   31|\n",
            "|Semillon-Sauvigno...|   31|\n",
            "|             Cortese|   32|\n",
            "|Tempranillo-Garnacha|   32|\n",
            "|     Shiraz-Viognier|   33|\n",
            "|Chenin Blanc-Char...|   33|\n",
            "|           Xinomavro|   33|\n",
            "|       Pinot Meunier|   33|\n",
            "|           Lemberger|   33|\n",
            "|            Castelão|   34|\n",
            "|            Traminer|   34|\n",
            "|      Müller-Thurgau|   35|\n",
            "|        Moschofilero|   36|\n",
            "|        Fernão Pires|   36|\n",
            "+--------------------+-----+\n",
            "only showing top 50 rows\n",
            "\n"
          ]
        }
      ]
    },
    {
      "cell_type": "code",
      "source": [
        "dt.show(20)"
      ],
      "metadata": {
        "colab": {
          "base_uri": "https://localhost:8080/"
        },
        "id": "GI86IAdE4Ttu",
        "outputId": "455b56d2-cc22-4ce0-88fa-9b1bea39bf34"
      },
      "execution_count": 116,
      "outputs": [
        {
          "output_type": "stream",
          "name": "stdout",
          "text": [
            "+------+---------+--------------------+--------------------+------+-----+-----------------+------------------+---------------------+--------------------+--------------------+--------------------+\n",
            "|    id|  country|         description|         designation|points|price|         province|       taster_name|taster_twitter_handle|               title|             variety|              winery|\n",
            "+------+---------+--------------------+--------------------+------+-----+-----------------+------------------+---------------------+--------------------+--------------------+--------------------+\n",
            "| 15995|   France|This simple, frui...|                null|    86|   12|         Bordeaux|        Roger Voss|           @vossroger|Château Saint-Flo...|Sauvignon Blanc-S...|Château Saint-Flo...|\n",
            "|116181|       US|Whispers of smoke...|               Haven|    90|   35|         New York|Anna Lee C. Iijima|                 null|Shinn Estate 2010...|Sauvignon Blanc-S...|        Shinn Estate|\n",
            "| 17501|       US|The two varieties...|                 SBS|    89|   23|       Washington|  Sean P. Sullivan|        @wawinereport|Cadaretta 2014 SB...|Sauvignon Blanc-S...|           Cadaretta|\n",
            "|119827|       US|Sauvignon Blanc m...|                 SBS|    88|   23|       Washington|  Sean P. Sullivan|        @wawinereport|Cadaretta 2015 SB...|Sauvignon Blanc-S...|           Cadaretta|\n",
            "|106843|       US|Made from Sémillo...|          Il Passito|    94|   89|       California|        Jim Gordon|     @gordone_cellars|Castello di Amoro...|Sauvignon Blanc-S...| Castello di Amorosa|\n",
            "| 28039|       US|This wine is made...|               Voilà|    86|   46|       California|    Virginie Boone|              @vboone|Lasseter 2014 Voi...|Sauvignon Blanc-S...|            Lasseter|\n",
            "| 29368|       US|Blending 90% Sauv...|          Dissonance|    87|   32|       California|    Virginie Boone|              @vboone|Blackbird Vineyar...|Sauvignon Blanc-S...| Blackbird Vineyards|\n",
            "| 29859|       US|From one of Steve...|Lola Ghielmetti V...|    89|   24|       California|    Virginie Boone|              @vboone|Steven Kent 2012 ...|Sauvignon Blanc-S...|         Steven Kent|\n",
            "| 45496|       US|This blend of 46%...|     Baby Blue Blanc|    88|   24|       California|    Virginie Boone|              @vboone|Blue Rock 2015 Ba...|Sauvignon Blanc-S...|           Blue Rock|\n",
            "| 54411|       US|Perfumy in lemon,...|                null|    88|   32|       California|    Virginie Boone|              @vboone|Vellum 2013 Sauvi...|Sauvignon Blanc-S...|              Vellum|\n",
            "| 67673|       US|A hearty 80% Sauv...|               White|    85|   38|       California|    Virginie Boone|              @vboone|Vellum 2014 White...|Sauvignon Blanc-S...|              Vellum|\n",
            "| 84160|       US|This blend of 50%...|               Voila|    89|   46|       California|    Virginie Boone|              @vboone|Lasseter 2015 Voi...|Sauvignon Blanc-S...|            Lasseter|\n",
            "| 90408|       US|Oak, almond and n...|          Dissonance|    88|   32|       California|    Virginie Boone|              @vboone|Blackbird Vineyar...|Sauvignon Blanc-S...| Blackbird Vineyards|\n",
            "|122449|       US|This is light, wi...|                null|    87|   12|       California|    Virginie Boone|              @vboone|Amador Foothill W...|Sauvignon Blanc-S...|Amador Foothill W...|\n",
            "|  1649|Australia|This shows some p...|              Exmoor|    85|   16|Western Australia|    Joe Czerwinski|               @JoeCz|Xanadu 2015 Exmoo...|Sauvignon Blanc-S...|              Xanadu|\n",
            "|  5088|Australia|This starts off w...|         Hazard Hill|    86|   13|Western Australia|    Joe Czerwinski|               @JoeCz|Plantagenet 2011 ...|Sauvignon Blanc-S...|         Plantagenet|\n",
            "|  9483|Australia|Imported by Bluew...|                null|    87|   20|Western Australia|    Joe Czerwinski|               @JoeCz|Strait Jacket 200...|Sauvignon Blanc-S...|       Strait Jacket|\n",
            "| 19867|Australia|There's no denyin...|                null|    87|   25|Western Australia|    Joe Czerwinski|               @JoeCz|Voyager Estate 20...|Sauvignon Blanc-S...|      Voyager Estate|\n",
            "| 21204|Australia|This is pungent, ...|              Miamup|    89|   23|Western Australia|    Joe Czerwinski|               @JoeCz|Howard Park 2016 ...|Sauvignon Blanc-S...|         Howard Park|\n",
            "| 29274|Australia|Despite its relat...|     Cullen Vineyard|    90|   35|Western Australia|    Joe Czerwinski|               @JoeCz|Cullen 2011 Culle...|Sauvignon Blanc-S...|              Cullen|\n",
            "+------+---------+--------------------+--------------------+------+-----+-----------------+------------------+---------------------+--------------------+--------------------+--------------------+\n",
            "only showing top 20 rows\n",
            "\n"
          ]
        }
      ]
    },
    {
      "cell_type": "code",
      "source": [
        "dt.printSchema()"
      ],
      "metadata": {
        "colab": {
          "base_uri": "https://localhost:8080/"
        },
        "id": "dr1GgGhT9Iqy",
        "outputId": "b0529749-4e1b-4681-fa9a-a5798da9c97c"
      },
      "execution_count": 117,
      "outputs": [
        {
          "output_type": "stream",
          "name": "stdout",
          "text": [
            "root\n",
            " |-- id: string (nullable = true)\n",
            " |-- country: string (nullable = true)\n",
            " |-- description: string (nullable = true)\n",
            " |-- designation: string (nullable = true)\n",
            " |-- points: string (nullable = true)\n",
            " |-- price: string (nullable = true)\n",
            " |-- province: string (nullable = true)\n",
            " |-- taster_name: string (nullable = true)\n",
            " |-- taster_twitter_handle: string (nullable = true)\n",
            " |-- title: string (nullable = true)\n",
            " |-- variety: string (nullable = true)\n",
            " |-- winery: string (nullable = true)\n",
            "\n"
          ]
        }
      ]
    },
    {
      "cell_type": "code",
      "source": [
        "from pyspark.sql.types import IntegerType"
      ],
      "metadata": {
        "id": "XAshy59I-LDb"
      },
      "execution_count": 118,
      "outputs": []
    },
    {
      "cell_type": "code",
      "source": [
        "dt = dt.withColumn(\"price\", dt[\"price\"].cast(IntegerType()))\n",
        "dt = dt.withColumn(\"points\", dt[\"points\"].cast(IntegerType()))"
      ],
      "metadata": {
        "id": "dhHp1yBS-FOH"
      },
      "execution_count": 119,
      "outputs": []
    },
    {
      "cell_type": "code",
      "source": [
        "dt.printSchema()"
      ],
      "metadata": {
        "colab": {
          "base_uri": "https://localhost:8080/"
        },
        "id": "QN4BIc0l-dfe",
        "outputId": "1990d850-6002-4272-8c04-6e8c0e35efd1"
      },
      "execution_count": 120,
      "outputs": [
        {
          "output_type": "stream",
          "name": "stdout",
          "text": [
            "root\n",
            " |-- id: string (nullable = true)\n",
            " |-- country: string (nullable = true)\n",
            " |-- description: string (nullable = true)\n",
            " |-- designation: string (nullable = true)\n",
            " |-- points: integer (nullable = true)\n",
            " |-- price: integer (nullable = true)\n",
            " |-- province: string (nullable = true)\n",
            " |-- taster_name: string (nullable = true)\n",
            " |-- taster_twitter_handle: string (nullable = true)\n",
            " |-- title: string (nullable = true)\n",
            " |-- variety: string (nullable = true)\n",
            " |-- winery: string (nullable = true)\n",
            "\n"
          ]
        }
      ]
    },
    {
      "cell_type": "code",
      "source": [
        "import pandas as pd"
      ],
      "metadata": {
        "id": "nP5CZBDd_TV_"
      },
      "execution_count": 121,
      "outputs": []
    },
    {
      "cell_type": "code",
      "source": [
        "## chage to pandas data frame\n",
        "dt_clean_pd = dt.toPandas()"
      ],
      "metadata": {
        "id": "7qc6XDpG-nrD"
      },
      "execution_count": 122,
      "outputs": []
    },
    {
      "cell_type": "code",
      "source": [
        "dt_clean_pd.head()"
      ],
      "metadata": {
        "colab": {
          "base_uri": "https://localhost:8080/",
          "height": 337
        },
        "id": "HEKmNKEQ_Yps",
        "outputId": "7295126c-c720-42f1-a0d6-085382d2d6b0"
      },
      "execution_count": 123,
      "outputs": [
        {
          "output_type": "execute_result",
          "data": {
            "text/plain": [
              "       id country                                        description  \\\n",
              "0   15995  France  This simple, fruity wine has both crisp, citru...   \n",
              "1  116181      US  Whispers of smoke and fresh herb are a counter...   \n",
              "2   17501      US  The two varieties show themselves in turn, wit...   \n",
              "3  119827      US  Sauvignon Blanc makes up 89% of this wine, wit...   \n",
              "4  106843      US  Made from Sémillon and Sauvignon Blanc, this w...   \n",
              "\n",
              "  designation  points  price    province         taster_name  \\\n",
              "0        None      86   12.0    Bordeaux          Roger Voss   \n",
              "1       Haven      90   35.0    New York  Anna Lee C. Iijima   \n",
              "2         SBS      89   23.0  Washington    Sean P. Sullivan   \n",
              "3         SBS      88   23.0  Washington    Sean P. Sullivan   \n",
              "4  Il Passito      94   89.0  California          Jim Gordon   \n",
              "\n",
              "  taster_twitter_handle                                              title  \\\n",
              "0            @vossroger         Château Saint-Florian 2016  Bordeaux Blanc   \n",
              "1                  None  Shinn Estate 2010 Haven Sauvignon Blanc-Semill...   \n",
              "2         @wawinereport  Cadaretta 2014 SBS Sauvignon Blanc-Semillon (C...   \n",
              "3         @wawinereport  Cadaretta 2015 SBS Sauvignon Blanc-Semillon (C...   \n",
              "4      @gordone_cellars  Castello di Amorosa 2010 Il Passito Sauvignon ...   \n",
              "\n",
              "                    variety                 winery  \n",
              "0  Sauvignon Blanc-Semillon  Château Saint-Florian  \n",
              "1  Sauvignon Blanc-Semillon           Shinn Estate  \n",
              "2  Sauvignon Blanc-Semillon              Cadaretta  \n",
              "3  Sauvignon Blanc-Semillon              Cadaretta  \n",
              "4  Sauvignon Blanc-Semillon    Castello di Amorosa  "
            ],
            "text/html": [
              "\n",
              "  <div id=\"df-b6ceba6c-87ca-439a-8771-7fb4df7f6442\">\n",
              "    <div class=\"colab-df-container\">\n",
              "      <div>\n",
              "<style scoped>\n",
              "    .dataframe tbody tr th:only-of-type {\n",
              "        vertical-align: middle;\n",
              "    }\n",
              "\n",
              "    .dataframe tbody tr th {\n",
              "        vertical-align: top;\n",
              "    }\n",
              "\n",
              "    .dataframe thead th {\n",
              "        text-align: right;\n",
              "    }\n",
              "</style>\n",
              "<table border=\"1\" class=\"dataframe\">\n",
              "  <thead>\n",
              "    <tr style=\"text-align: right;\">\n",
              "      <th></th>\n",
              "      <th>id</th>\n",
              "      <th>country</th>\n",
              "      <th>description</th>\n",
              "      <th>designation</th>\n",
              "      <th>points</th>\n",
              "      <th>price</th>\n",
              "      <th>province</th>\n",
              "      <th>taster_name</th>\n",
              "      <th>taster_twitter_handle</th>\n",
              "      <th>title</th>\n",
              "      <th>variety</th>\n",
              "      <th>winery</th>\n",
              "    </tr>\n",
              "  </thead>\n",
              "  <tbody>\n",
              "    <tr>\n",
              "      <th>0</th>\n",
              "      <td>15995</td>\n",
              "      <td>France</td>\n",
              "      <td>This simple, fruity wine has both crisp, citru...</td>\n",
              "      <td>None</td>\n",
              "      <td>86</td>\n",
              "      <td>12.0</td>\n",
              "      <td>Bordeaux</td>\n",
              "      <td>Roger Voss</td>\n",
              "      <td>@vossroger</td>\n",
              "      <td>Château Saint-Florian 2016  Bordeaux Blanc</td>\n",
              "      <td>Sauvignon Blanc-Semillon</td>\n",
              "      <td>Château Saint-Florian</td>\n",
              "    </tr>\n",
              "    <tr>\n",
              "      <th>1</th>\n",
              "      <td>116181</td>\n",
              "      <td>US</td>\n",
              "      <td>Whispers of smoke and fresh herb are a counter...</td>\n",
              "      <td>Haven</td>\n",
              "      <td>90</td>\n",
              "      <td>35.0</td>\n",
              "      <td>New York</td>\n",
              "      <td>Anna Lee C. Iijima</td>\n",
              "      <td>None</td>\n",
              "      <td>Shinn Estate 2010 Haven Sauvignon Blanc-Semill...</td>\n",
              "      <td>Sauvignon Blanc-Semillon</td>\n",
              "      <td>Shinn Estate</td>\n",
              "    </tr>\n",
              "    <tr>\n",
              "      <th>2</th>\n",
              "      <td>17501</td>\n",
              "      <td>US</td>\n",
              "      <td>The two varieties show themselves in turn, wit...</td>\n",
              "      <td>SBS</td>\n",
              "      <td>89</td>\n",
              "      <td>23.0</td>\n",
              "      <td>Washington</td>\n",
              "      <td>Sean P. Sullivan</td>\n",
              "      <td>@wawinereport</td>\n",
              "      <td>Cadaretta 2014 SBS Sauvignon Blanc-Semillon (C...</td>\n",
              "      <td>Sauvignon Blanc-Semillon</td>\n",
              "      <td>Cadaretta</td>\n",
              "    </tr>\n",
              "    <tr>\n",
              "      <th>3</th>\n",
              "      <td>119827</td>\n",
              "      <td>US</td>\n",
              "      <td>Sauvignon Blanc makes up 89% of this wine, wit...</td>\n",
              "      <td>SBS</td>\n",
              "      <td>88</td>\n",
              "      <td>23.0</td>\n",
              "      <td>Washington</td>\n",
              "      <td>Sean P. Sullivan</td>\n",
              "      <td>@wawinereport</td>\n",
              "      <td>Cadaretta 2015 SBS Sauvignon Blanc-Semillon (C...</td>\n",
              "      <td>Sauvignon Blanc-Semillon</td>\n",
              "      <td>Cadaretta</td>\n",
              "    </tr>\n",
              "    <tr>\n",
              "      <th>4</th>\n",
              "      <td>106843</td>\n",
              "      <td>US</td>\n",
              "      <td>Made from Sémillon and Sauvignon Blanc, this w...</td>\n",
              "      <td>Il Passito</td>\n",
              "      <td>94</td>\n",
              "      <td>89.0</td>\n",
              "      <td>California</td>\n",
              "      <td>Jim Gordon</td>\n",
              "      <td>@gordone_cellars</td>\n",
              "      <td>Castello di Amorosa 2010 Il Passito Sauvignon ...</td>\n",
              "      <td>Sauvignon Blanc-Semillon</td>\n",
              "      <td>Castello di Amorosa</td>\n",
              "    </tr>\n",
              "  </tbody>\n",
              "</table>\n",
              "</div>\n",
              "      <button class=\"colab-df-convert\" onclick=\"convertToInteractive('df-b6ceba6c-87ca-439a-8771-7fb4df7f6442')\"\n",
              "              title=\"Convert this dataframe to an interactive table.\"\n",
              "              style=\"display:none;\">\n",
              "        \n",
              "  <svg xmlns=\"http://www.w3.org/2000/svg\" height=\"24px\"viewBox=\"0 0 24 24\"\n",
              "       width=\"24px\">\n",
              "    <path d=\"M0 0h24v24H0V0z\" fill=\"none\"/>\n",
              "    <path d=\"M18.56 5.44l.94 2.06.94-2.06 2.06-.94-2.06-.94-.94-2.06-.94 2.06-2.06.94zm-11 1L8.5 8.5l.94-2.06 2.06-.94-2.06-.94L8.5 2.5l-.94 2.06-2.06.94zm10 10l.94 2.06.94-2.06 2.06-.94-2.06-.94-.94-2.06-.94 2.06-2.06.94z\"/><path d=\"M17.41 7.96l-1.37-1.37c-.4-.4-.92-.59-1.43-.59-.52 0-1.04.2-1.43.59L10.3 9.45l-7.72 7.72c-.78.78-.78 2.05 0 2.83L4 21.41c.39.39.9.59 1.41.59.51 0 1.02-.2 1.41-.59l7.78-7.78 2.81-2.81c.8-.78.8-2.07 0-2.86zM5.41 20L4 18.59l7.72-7.72 1.47 1.35L5.41 20z\"/>\n",
              "  </svg>\n",
              "      </button>\n",
              "      \n",
              "  <style>\n",
              "    .colab-df-container {\n",
              "      display:flex;\n",
              "      flex-wrap:wrap;\n",
              "      gap: 12px;\n",
              "    }\n",
              "\n",
              "    .colab-df-convert {\n",
              "      background-color: #E8F0FE;\n",
              "      border: none;\n",
              "      border-radius: 50%;\n",
              "      cursor: pointer;\n",
              "      display: none;\n",
              "      fill: #1967D2;\n",
              "      height: 32px;\n",
              "      padding: 0 0 0 0;\n",
              "      width: 32px;\n",
              "    }\n",
              "\n",
              "    .colab-df-convert:hover {\n",
              "      background-color: #E2EBFA;\n",
              "      box-shadow: 0px 1px 2px rgba(60, 64, 67, 0.3), 0px 1px 3px 1px rgba(60, 64, 67, 0.15);\n",
              "      fill: #174EA6;\n",
              "    }\n",
              "\n",
              "    [theme=dark] .colab-df-convert {\n",
              "      background-color: #3B4455;\n",
              "      fill: #D2E3FC;\n",
              "    }\n",
              "\n",
              "    [theme=dark] .colab-df-convert:hover {\n",
              "      background-color: #434B5C;\n",
              "      box-shadow: 0px 1px 3px 1px rgba(0, 0, 0, 0.15);\n",
              "      filter: drop-shadow(0px 1px 2px rgba(0, 0, 0, 0.3));\n",
              "      fill: #FFFFFF;\n",
              "    }\n",
              "  </style>\n",
              "\n",
              "      <script>\n",
              "        const buttonEl =\n",
              "          document.querySelector('#df-b6ceba6c-87ca-439a-8771-7fb4df7f6442 button.colab-df-convert');\n",
              "        buttonEl.style.display =\n",
              "          google.colab.kernel.accessAllowed ? 'block' : 'none';\n",
              "\n",
              "        async function convertToInteractive(key) {\n",
              "          const element = document.querySelector('#df-b6ceba6c-87ca-439a-8771-7fb4df7f6442');\n",
              "          const dataTable =\n",
              "            await google.colab.kernel.invokeFunction('convertToInteractive',\n",
              "                                                     [key], {});\n",
              "          if (!dataTable) return;\n",
              "\n",
              "          const docLinkHtml = 'Like what you see? Visit the ' +\n",
              "            '<a target=\"_blank\" href=https://colab.research.google.com/notebooks/data_table.ipynb>data table notebook</a>'\n",
              "            + ' to learn more about interactive tables.';\n",
              "          element.innerHTML = '';\n",
              "          dataTable['output_type'] = 'display_data';\n",
              "          await google.colab.output.renderOutput(dataTable, element);\n",
              "          const docLink = document.createElement('div');\n",
              "          docLink.innerHTML = docLinkHtml;\n",
              "          element.appendChild(docLink);\n",
              "        }\n",
              "      </script>\n",
              "    </div>\n",
              "  </div>\n",
              "  "
            ]
          },
          "metadata": {},
          "execution_count": 123
        }
      ]
    },
    {
      "cell_type": "code",
      "source": [
        "dt.createOrReplaceTempView(\"data\")\n",
        "dt_sql = spark.sql(\"SELECT * FROM data\")\n",
        "dt_sql.show()"
      ],
      "metadata": {
        "colab": {
          "base_uri": "https://localhost:8080/"
        },
        "id": "VTc30kAc_lgo",
        "outputId": "fc40fd88-27b6-44f0-906f-fc7dc5f31ef1"
      },
      "execution_count": 124,
      "outputs": [
        {
          "output_type": "stream",
          "name": "stdout",
          "text": [
            "+------+---------+--------------------+--------------------+------+-----+-----------------+------------------+---------------------+--------------------+--------------------+--------------------+\n",
            "|    id|  country|         description|         designation|points|price|         province|       taster_name|taster_twitter_handle|               title|             variety|              winery|\n",
            "+------+---------+--------------------+--------------------+------+-----+-----------------+------------------+---------------------+--------------------+--------------------+--------------------+\n",
            "| 15995|   France|This simple, frui...|                null|    86|   12|         Bordeaux|        Roger Voss|           @vossroger|Château Saint-Flo...|Sauvignon Blanc-S...|Château Saint-Flo...|\n",
            "|116181|       US|Whispers of smoke...|               Haven|    90|   35|         New York|Anna Lee C. Iijima|                 null|Shinn Estate 2010...|Sauvignon Blanc-S...|        Shinn Estate|\n",
            "| 17501|       US|The two varieties...|                 SBS|    89|   23|       Washington|  Sean P. Sullivan|        @wawinereport|Cadaretta 2014 SB...|Sauvignon Blanc-S...|           Cadaretta|\n",
            "|119827|       US|Sauvignon Blanc m...|                 SBS|    88|   23|       Washington|  Sean P. Sullivan|        @wawinereport|Cadaretta 2015 SB...|Sauvignon Blanc-S...|           Cadaretta|\n",
            "|106843|       US|Made from Sémillo...|          Il Passito|    94|   89|       California|        Jim Gordon|     @gordone_cellars|Castello di Amoro...|Sauvignon Blanc-S...| Castello di Amorosa|\n",
            "| 28039|       US|This wine is made...|               Voilà|    86|   46|       California|    Virginie Boone|              @vboone|Lasseter 2014 Voi...|Sauvignon Blanc-S...|            Lasseter|\n",
            "| 29368|       US|Blending 90% Sauv...|          Dissonance|    87|   32|       California|    Virginie Boone|              @vboone|Blackbird Vineyar...|Sauvignon Blanc-S...| Blackbird Vineyards|\n",
            "| 29859|       US|From one of Steve...|Lola Ghielmetti V...|    89|   24|       California|    Virginie Boone|              @vboone|Steven Kent 2012 ...|Sauvignon Blanc-S...|         Steven Kent|\n",
            "| 45496|       US|This blend of 46%...|     Baby Blue Blanc|    88|   24|       California|    Virginie Boone|              @vboone|Blue Rock 2015 Ba...|Sauvignon Blanc-S...|           Blue Rock|\n",
            "| 54411|       US|Perfumy in lemon,...|                null|    88|   32|       California|    Virginie Boone|              @vboone|Vellum 2013 Sauvi...|Sauvignon Blanc-S...|              Vellum|\n",
            "| 67673|       US|A hearty 80% Sauv...|               White|    85|   38|       California|    Virginie Boone|              @vboone|Vellum 2014 White...|Sauvignon Blanc-S...|              Vellum|\n",
            "| 84160|       US|This blend of 50%...|               Voila|    89|   46|       California|    Virginie Boone|              @vboone|Lasseter 2015 Voi...|Sauvignon Blanc-S...|            Lasseter|\n",
            "| 90408|       US|Oak, almond and n...|          Dissonance|    88|   32|       California|    Virginie Boone|              @vboone|Blackbird Vineyar...|Sauvignon Blanc-S...| Blackbird Vineyards|\n",
            "|122449|       US|This is light, wi...|                null|    87|   12|       California|    Virginie Boone|              @vboone|Amador Foothill W...|Sauvignon Blanc-S...|Amador Foothill W...|\n",
            "|  1649|Australia|This shows some p...|              Exmoor|    85|   16|Western Australia|    Joe Czerwinski|               @JoeCz|Xanadu 2015 Exmoo...|Sauvignon Blanc-S...|              Xanadu|\n",
            "|  5088|Australia|This starts off w...|         Hazard Hill|    86|   13|Western Australia|    Joe Czerwinski|               @JoeCz|Plantagenet 2011 ...|Sauvignon Blanc-S...|         Plantagenet|\n",
            "|  9483|Australia|Imported by Bluew...|                null|    87|   20|Western Australia|    Joe Czerwinski|               @JoeCz|Strait Jacket 200...|Sauvignon Blanc-S...|       Strait Jacket|\n",
            "| 19867|Australia|There's no denyin...|                null|    87|   25|Western Australia|    Joe Czerwinski|               @JoeCz|Voyager Estate 20...|Sauvignon Blanc-S...|      Voyager Estate|\n",
            "| 21204|Australia|This is pungent, ...|              Miamup|    89|   23|Western Australia|    Joe Czerwinski|               @JoeCz|Howard Park 2016 ...|Sauvignon Blanc-S...|         Howard Park|\n",
            "| 29274|Australia|Despite its relat...|     Cullen Vineyard|    90|   35|Western Australia|    Joe Czerwinski|               @JoeCz|Cullen 2011 Culle...|Sauvignon Blanc-S...|              Cullen|\n",
            "+------+---------+--------------------+--------------------+------+-----+-----------------+------------------+---------------------+--------------------+--------------------+--------------------+\n",
            "only showing top 20 rows\n",
            "\n"
          ]
        }
      ]
    },
    {
      "cell_type": "code",
      "source": [
        "avg_by_country = dt.groupBy('country').agg(F.avg('price'),F.avg('points'))\n",
        "avg_by_country.show(50)\n"
      ],
      "metadata": {
        "colab": {
          "base_uri": "https://localhost:8080/"
        },
        "id": "dIzri2WfBEHq",
        "outputId": "71d56eba-8ef8-4d3c-9749-52dac6e9fa2e"
      },
      "execution_count": 125,
      "outputs": [
        {
          "output_type": "stream",
          "name": "stdout",
          "text": [
            "+--------------+------------------+-----------------+\n",
            "|       country|        avg(price)|      avg(points)|\n",
            "+--------------+------------------+-----------------+\n",
            "|        Turkey|27.974358974358974|88.05128205128206|\n",
            "|       Germany| 42.69394673123487|89.87821122740247|\n",
            "|        France| 41.50162356488461|88.87293767718548|\n",
            "|        Greece|22.854922279792746|87.19693094629156|\n",
            "|          null|24.954545454545453|88.48936170212765|\n",
            "|      Slovakia|              16.0|             87.0|\n",
            "|     Argentina| 24.22760686087667|86.68998923573736|\n",
            "|          Peru|           18.0625|          83.5625|\n",
            "|         India|13.333333333333334|90.22222222222223|\n",
            "|         China|              18.0|             89.0|\n",
            "|         Chile|            20.864| 86.5099907063197|\n",
            "|       Croatia|20.551724137931036|86.51612903225806|\n",
            "|         Italy| 42.14536135315223|88.87079496335275|\n",
            "|         Spain|28.546922952673235|87.35605939645538|\n",
            "|            US| 36.27972254460069|88.98663732961253|\n",
            "|       Morocco|19.703703703703702|88.55555555555556|\n",
            "|       Ukraine|              9.25|83.83333333333333|\n",
            "|        Israel|31.877461706783368|88.50739957716702|\n",
            "|        Cyprus|             15.25|             87.0|\n",
            "|       Uruguay|27.252525252525253|86.71717171717172|\n",
            "|        Mexico|27.901639344262296|85.09836065573771|\n",
            "|       Georgia|19.043478260869566|87.75714285714285|\n",
            "|       Armenia|              15.0|             88.0|\n",
            "|   Switzerland|             107.8|             88.0|\n",
            "|        Canada|35.416666666666664|89.34567901234568|\n",
            "|     Macedonia|            15.125|             86.5|\n",
            "|Czech Republic|25.142857142857142|87.14285714285714|\n",
            "|        Brazil| 23.76595744680851|84.67307692307692|\n",
            "|       Lebanon|30.685714285714287|87.68571428571428|\n",
            "|      Slovenia|24.463768115942027|88.02666666666667|\n",
            "|    Luxembourg|23.333333333333332|88.66666666666667|\n",
            "|   New Zealand|27.302861685214626|88.33127889060093|\n",
            "|       England| 51.68115942028985|91.58108108108108|\n",
            "|      Portugal| 25.94392123287671|88.25334555453712|\n",
            "|     Australia| 37.15586419753087|88.75886524822695|\n",
            "|       Romania|15.429906542056075|86.27102803738318|\n",
            "|      Bulgaria|14.633587786259541|87.91603053435115|\n",
            "|       Austria|30.731573157315733|90.10714285714286|\n",
            "|         Egypt|              null|             84.0|\n",
            "|        Serbia|              31.0|             88.0|\n",
            "|  South Africa|25.141068447412355|  88.178955453149|\n",
            "|       Hungary|42.507936507936506|89.41732283464567|\n",
            "|       Moldova| 17.09433962264151|87.09433962264151|\n",
            "+--------------+------------------+-----------------+\n",
            "\n"
          ]
        }
      ]
    },
    {
      "cell_type": "code",
      "source": [
        "avg_by_country = avg_by_country.withColumn('avg(price)', F.round('avg(price)',2))\n",
        "avg_by_country = avg_by_country.withColumn('avg(points)', F.round('avg(points)',2))\n",
        "avg_by_country = avg_by_country.withColumnRenamed('avg(points)', 'AVG_POINT')\n",
        "avg_by_country = avg_by_country.withColumnRenamed('avg(price)', 'AVG_PRICE')\n",
        "\n",
        "avg_by_country.show()"
      ],
      "metadata": {
        "colab": {
          "base_uri": "https://localhost:8080/"
        },
        "id": "EhMVa0BWRz4F",
        "outputId": "87d88b15-c548-4019-f76a-885352de8152"
      },
      "execution_count": 126,
      "outputs": [
        {
          "output_type": "stream",
          "name": "stdout",
          "text": [
            "+---------+---------+---------+\n",
            "|  country|AVG_PRICE|AVG_POINT|\n",
            "+---------+---------+---------+\n",
            "|   Turkey|    27.97|    88.05|\n",
            "|  Germany|    42.69|    89.88|\n",
            "|   France|     41.5|    88.87|\n",
            "|   Greece|    22.85|     87.2|\n",
            "|     null|    24.95|    88.49|\n",
            "| Slovakia|     16.0|     87.0|\n",
            "|Argentina|    24.23|    86.69|\n",
            "|     Peru|    18.06|    83.56|\n",
            "|    India|    13.33|    90.22|\n",
            "|    China|     18.0|     89.0|\n",
            "|    Chile|    20.86|    86.51|\n",
            "|  Croatia|    20.55|    86.52|\n",
            "|    Italy|    42.15|    88.87|\n",
            "|    Spain|    28.55|    87.36|\n",
            "|       US|    36.28|    88.99|\n",
            "|  Morocco|     19.7|    88.56|\n",
            "|  Ukraine|     9.25|    83.83|\n",
            "|   Israel|    31.88|    88.51|\n",
            "|   Cyprus|    15.25|     87.0|\n",
            "|  Uruguay|    27.25|    86.72|\n",
            "+---------+---------+---------+\n",
            "only showing top 20 rows\n",
            "\n"
          ]
        }
      ]
    },
    {
      "cell_type": "code",
      "source": [
        "dt_cnt.show()"
      ],
      "metadata": {
        "colab": {
          "base_uri": "https://localhost:8080/"
        },
        "id": "u925_DO695SD",
        "outputId": "ce78be8c-b85e-498d-d1b9-88cfb71b5bd0"
      },
      "execution_count": 127,
      "outputs": [
        {
          "output_type": "stream",
          "name": "stdout",
          "text": [
            "+------------+-----+\n",
            "|     country|count|\n",
            "+------------+-----+\n",
            "|          US|37726|\n",
            "|      France|21827|\n",
            "|       Italy|11041|\n",
            "|       Spain| 6580|\n",
            "|    Portugal| 5686|\n",
            "|       Chile| 4361|\n",
            "|   Argentina| 3797|\n",
            "|     Austria| 3334|\n",
            "|     Germany| 2134|\n",
            "|   Australia| 2037|\n",
            "|South Africa| 1326|\n",
            "| New Zealand| 1306|\n",
            "|      Israel|  500|\n",
            "|      Greece|  466|\n",
            "|      Canada|  256|\n",
            "|     Hungary|  145|\n",
            "|    Bulgaria|  141|\n",
            "|     Romania|  120|\n",
            "|     Uruguay|  109|\n",
            "|      Turkey|   90|\n",
            "+------------+-----+\n",
            "only showing top 20 rows\n",
            "\n"
          ]
        }
      ]
    },
    {
      "cell_type": "code",
      "source": [
        "dt_avg = avg_by_country.join(dt_cnt,['country']).orderBy('AVG_POINT','AVG_PRICE', ascending=False)\n",
        "dt_avg.show(50)"
      ],
      "metadata": {
        "colab": {
          "base_uri": "https://localhost:8080/"
        },
        "id": "kzHFlsJp9w0W",
        "outputId": "f7e9f608-16f2-4ed2-8441-84e7302604bc"
      },
      "execution_count": 128,
      "outputs": [
        {
          "output_type": "stream",
          "name": "stdout",
          "text": [
            "+--------------+---------+---------+-----+\n",
            "|       country|AVG_PRICE|AVG_POINT|count|\n",
            "+--------------+---------+---------+-----+\n",
            "|       England|    51.68|    91.58|   74|\n",
            "|         India|    13.33|    90.22|    9|\n",
            "|       Austria|    30.73|    90.11| 3334|\n",
            "|       Germany|    42.69|    89.88| 2134|\n",
            "|       Hungary|    42.51|    89.42|  145|\n",
            "|        Canada|    35.42|    89.35|  256|\n",
            "|            US|    36.28|    88.99|37726|\n",
            "|         Italy|    42.15|    88.87|11041|\n",
            "|        France|     41.5|    88.87|21827|\n",
            "|     Australia|    37.16|    88.76| 2037|\n",
            "|    Luxembourg|    23.33|    88.67|    6|\n",
            "|       Morocco|     19.7|    88.56|   28|\n",
            "|        Israel|    31.88|    88.51|  500|\n",
            "|   New Zealand|     27.3|    88.33| 1306|\n",
            "|      Portugal|    25.94|    88.25| 5686|\n",
            "|  South Africa|    25.14|    88.18| 1326|\n",
            "|        Turkey|    27.97|    88.05|   90|\n",
            "|      Slovenia|    24.46|    88.03|   87|\n",
            "|   Switzerland|    107.8|     88.0|    7|\n",
            "|        Serbia|     31.0|     88.0|   12|\n",
            "|       Armenia|     15.0|     88.0|    2|\n",
            "|      Bulgaria|    14.63|    87.92|  141|\n",
            "|       Georgia|    19.04|    87.76|   86|\n",
            "|       Lebanon|    30.69|    87.69|   35|\n",
            "|         Spain|    28.55|    87.36| 6580|\n",
            "|        Greece|    22.85|     87.2|  466|\n",
            "|Czech Republic|    25.14|    87.14|   12|\n",
            "|       Moldova|    17.09|    87.09|   59|\n",
            "|        Cyprus|    15.25|     87.0|   11|\n",
            "|       Uruguay|    27.25|    86.72|  109|\n",
            "|     Argentina|    24.23|    86.69| 3797|\n",
            "|       Croatia|    20.55|    86.52|   73|\n",
            "|         Chile|    20.86|    86.51| 4361|\n",
            "|     Macedonia|    15.13|     86.5|   12|\n",
            "|       Romania|    15.43|    86.27|  120|\n",
            "|        Mexico|     27.9|     85.1|   65|\n",
            "|        Brazil|    23.77|    84.67|   52|\n",
            "|       Ukraine|     9.25|    83.83|   14|\n",
            "|          Peru|    18.06|    83.56|   16|\n",
            "+--------------+---------+---------+-----+\n",
            "\n"
          ]
        }
      ]
    },
    {
      "cell_type": "code",
      "source": [
        "dt.orderBy('id').show()"
      ],
      "metadata": {
        "colab": {
          "base_uri": "https://localhost:8080/"
        },
        "id": "5PwpEakXizJb",
        "outputId": "31372106-5e42-4806-94e3-229122b1dd91"
      },
      "execution_count": 129,
      "outputs": [
        {
          "output_type": "stream",
          "name": "stdout",
          "text": [
            "+------+--------+--------------------+--------------------+------+-----+-----------------+------------------+---------------------+--------------------+--------------------+--------------------+\n",
            "|    id| country|         description|         designation|points|price|         province|       taster_name|taster_twitter_handle|               title|             variety|              winery|\n",
            "+------+--------+--------------------+--------------------+------+-----+-----------------+------------------+---------------------+--------------------+--------------------+--------------------+\n",
            "|     0|   Italy|Aromas include tr...|        Vulkà Bianco|    87| null|Sicily & Sardinia|     Kerin O’Keefe|         @kerinokeefe|Nicosia 2013 Vulk...|         White Blend|             Nicosia|\n",
            "|     1|Portugal|This is ripe and ...|            Avidagos|    87|   15|            Douro|        Roger Voss|           @vossroger|Quinta dos Avidag...|      Portuguese Red| Quinta dos Avidagos|\n",
            "|    10|      US|Soft, supple plum...|      Mountain Cuvée|    87|   19|       California|    Virginie Boone|              @vboone|Kirkland Signatur...|  Cabernet Sauvignon|  Kirkland Signature|\n",
            "|   100|      US|Fresh apple, lemo...|                null|    88|   18|         New York|Anna Lee C. Iijima|                 null|Ventosa 2015 Pino...|          Pinot Gris|             Ventosa|\n",
            "|  1000|      US|Arcane's Cab is s...|                null|    88|   24|           Oregon|      Paul Gregutt|          @paulgwine |Arcane Cellars 20...|  Cabernet Sauvignon|      Arcane Cellars|\n",
            "| 10000|  France|This is a smooth,...|Blanc de Noirs Gr...|    91| null|        Champagne|        Roger Voss|           @vossroger|Henriet-Bazin NV ...|          Pinot Noir|       Henriet-Bazin|\n",
            "|100001|  France|Chapoutier's sele...|    Le Méal Ermitage|    98|  150|     Rhône Valley|        Roger Voss|           @vossroger|M. Chapoutier 199...|Rhône-style Red B...|       M. Chapoutier|\n",
            "|100002|  France|Jean-Louis, the s...|                null|    97|  125|     Rhône Valley|        Roger Voss|           @vossroger|J.L. Chave 1999  ...|Rhône-style Red B...|          J.L. Chave|\n",
            "|100006|  France|Even though the 4...|          La Mouline|    96|  175|     Rhône Valley|        Roger Voss|           @vossroger|E. Guigal 1998 La...|Rhône-style Red B...|           E. Guigal|\n",
            "|100007|      US|After “fiddling a...|                null|    95|   60|       Washington|      Paul Gregutt|          @paulgwine |Quilceda Creek 19...|  Cabernet Sauvignon|      Quilceda Creek|\n",
            "|100008|  France|A firm, dry, four...|           La Turque|    95|  175|     Rhône Valley|        Roger Voss|           @vossroger|E. Guigal 1998 La...|Rhône-style Red B...|           E. Guigal|\n",
            "|100009|  France|Here is a superbl...|         La Landonne|    95|  150|     Rhône Valley|        Roger Voss|           @vossroger|Domaine Jean-Mich...|Rhône-style Red B...|Domaine Jean-Mich...|\n",
            "| 10001|Portugal|A bold, powerful ...|             Reserva|    91|   15|         Alentejo|        Roger Voss|           @vossroger|Herdade dos Macha...|      Portuguese Red|Herdade dos Machados|\n",
            "|100010|  France|A huge, ink-black...|          Empreintes|    95|   37|     Rhône Valley|        Roger Voss|           @vossroger|Éric & Jöel Duran...|Rhône-style Red B...|  Éric & Jöel Durand|\n",
            "|100011|  France|A massive wine, w...|                null|    95|   55|     Rhône Valley|        Roger Voss|           @vossroger|E. Guigal 1999  H...|Rhône-style Red B...|           E. Guigal|\n",
            "|100015|  France|Jaboulet's white ...|Chevalier de Ster...|    94|   75|     Rhône Valley|        Roger Voss|           @vossroger|Paul Jaboulet Aîn...|Rhône-style White...|  Paul Jaboulet Aîné|\n",
            "|100016|  France|Jaboulet's view o...|         La Chapelle|    94|  131|     Rhône Valley|        Roger Voss|           @vossroger|Paul Jaboulet Aîn...|Rhône-style Red B...|  Paul Jaboulet Aîné|\n",
            "|100018|  France|Old vines in the ...|        Les Bessards|    94|   98|     Rhône Valley|        Roger Voss|           @vossroger|Delas Frères 1999...|Rhône-style Red B...|        Delas Frères|\n",
            "|100019|  France|The perfect combi...|     Brune et Blonde|    94|   40|     Rhône Valley|        Roger Voss|           @vossroger|E. Guigal 1999 Br...|               Syrah|           E. Guigal|\n",
            "| 10002|   Italy|Here's a lovely s...|                Brut|    91|   29|         Lombardy|     Kerin O’Keefe|         @kerinokeefe|Il Mosnel NV Brut...|     Sparkling Blend|           Il Mosnel|\n",
            "+------+--------+--------------------+--------------------+------+-----+-----------------+------------------+---------------------+--------------------+--------------------+--------------------+\n",
            "only showing top 20 rows\n",
            "\n"
          ]
        }
      ]
    },
    {
      "cell_type": "code",
      "source": [
        "w_1 = W.orderBy(\"id\")\n",
        "result = dt.withColumn(\"ID\", F.row_number().over(w_1))\n",
        "result.show()"
      ],
      "metadata": {
        "colab": {
          "base_uri": "https://localhost:8080/"
        },
        "id": "GSDAYz3fj_5E",
        "outputId": "76ca5629-2a10-41de-eca5-43c4dc001f2b"
      },
      "execution_count": 130,
      "outputs": [
        {
          "output_type": "stream",
          "name": "stdout",
          "text": [
            "+---+--------+--------------------+--------------------+------+-----+-----------------+------------------+---------------------+--------------------+--------------------+--------------------+\n",
            "| ID| country|         description|         designation|points|price|         province|       taster_name|taster_twitter_handle|               title|             variety|              winery|\n",
            "+---+--------+--------------------+--------------------+------+-----+-----------------+------------------+---------------------+--------------------+--------------------+--------------------+\n",
            "|  1|   Italy|Aromas include tr...|        Vulkà Bianco|    87| null|Sicily & Sardinia|     Kerin O’Keefe|         @kerinokeefe|Nicosia 2013 Vulk...|         White Blend|             Nicosia|\n",
            "|  2|Portugal|This is ripe and ...|            Avidagos|    87|   15|            Douro|        Roger Voss|           @vossroger|Quinta dos Avidag...|      Portuguese Red| Quinta dos Avidagos|\n",
            "|  3|      US|Soft, supple plum...|      Mountain Cuvée|    87|   19|       California|    Virginie Boone|              @vboone|Kirkland Signatur...|  Cabernet Sauvignon|  Kirkland Signature|\n",
            "|  4|      US|Fresh apple, lemo...|                null|    88|   18|         New York|Anna Lee C. Iijima|                 null|Ventosa 2015 Pino...|          Pinot Gris|             Ventosa|\n",
            "|  5|      US|Arcane's Cab is s...|                null|    88|   24|           Oregon|      Paul Gregutt|          @paulgwine |Arcane Cellars 20...|  Cabernet Sauvignon|      Arcane Cellars|\n",
            "|  6|  France|This is a smooth,...|Blanc de Noirs Gr...|    91| null|        Champagne|        Roger Voss|           @vossroger|Henriet-Bazin NV ...|          Pinot Noir|       Henriet-Bazin|\n",
            "|  7|  France|Chapoutier's sele...|    Le Méal Ermitage|    98|  150|     Rhône Valley|        Roger Voss|           @vossroger|M. Chapoutier 199...|Rhône-style Red B...|       M. Chapoutier|\n",
            "|  8|  France|Jean-Louis, the s...|                null|    97|  125|     Rhône Valley|        Roger Voss|           @vossroger|J.L. Chave 1999  ...|Rhône-style Red B...|          J.L. Chave|\n",
            "|  9|  France|Even though the 4...|          La Mouline|    96|  175|     Rhône Valley|        Roger Voss|           @vossroger|E. Guigal 1998 La...|Rhône-style Red B...|           E. Guigal|\n",
            "| 10|      US|After “fiddling a...|                null|    95|   60|       Washington|      Paul Gregutt|          @paulgwine |Quilceda Creek 19...|  Cabernet Sauvignon|      Quilceda Creek|\n",
            "| 11|  France|A firm, dry, four...|           La Turque|    95|  175|     Rhône Valley|        Roger Voss|           @vossroger|E. Guigal 1998 La...|Rhône-style Red B...|           E. Guigal|\n",
            "| 12|  France|Here is a superbl...|         La Landonne|    95|  150|     Rhône Valley|        Roger Voss|           @vossroger|Domaine Jean-Mich...|Rhône-style Red B...|Domaine Jean-Mich...|\n",
            "| 13|Portugal|A bold, powerful ...|             Reserva|    91|   15|         Alentejo|        Roger Voss|           @vossroger|Herdade dos Macha...|      Portuguese Red|Herdade dos Machados|\n",
            "| 14|  France|A huge, ink-black...|          Empreintes|    95|   37|     Rhône Valley|        Roger Voss|           @vossroger|Éric & Jöel Duran...|Rhône-style Red B...|  Éric & Jöel Durand|\n",
            "| 15|  France|A massive wine, w...|                null|    95|   55|     Rhône Valley|        Roger Voss|           @vossroger|E. Guigal 1999  H...|Rhône-style Red B...|           E. Guigal|\n",
            "| 16|  France|Jaboulet's white ...|Chevalier de Ster...|    94|   75|     Rhône Valley|        Roger Voss|           @vossroger|Paul Jaboulet Aîn...|Rhône-style White...|  Paul Jaboulet Aîné|\n",
            "| 17|  France|Jaboulet's view o...|         La Chapelle|    94|  131|     Rhône Valley|        Roger Voss|           @vossroger|Paul Jaboulet Aîn...|Rhône-style Red B...|  Paul Jaboulet Aîné|\n",
            "| 18|  France|Old vines in the ...|        Les Bessards|    94|   98|     Rhône Valley|        Roger Voss|           @vossroger|Delas Frères 1999...|Rhône-style Red B...|        Delas Frères|\n",
            "| 19|  France|The perfect combi...|     Brune et Blonde|    94|   40|     Rhône Valley|        Roger Voss|           @vossroger|E. Guigal 1999 Br...|               Syrah|           E. Guigal|\n",
            "| 20|   Italy|Here's a lovely s...|                Brut|    91|   29|         Lombardy|     Kerin O’Keefe|         @kerinokeefe|Il Mosnel NV Brut...|     Sparkling Blend|           Il Mosnel|\n",
            "+---+--------+--------------------+--------------------+------+-----+-----------------+------------------+---------------------+--------------------+--------------------+--------------------+\n",
            "only showing top 20 rows\n",
            "\n"
          ]
        }
      ]
    },
    {
      "cell_type": "code",
      "source": [
        "result.summary(\"count\").show()"
      ],
      "metadata": {
        "colab": {
          "base_uri": "https://localhost:8080/"
        },
        "id": "GfANuVpqlppN",
        "outputId": "dbe1fbec-658c-4918-a310-c637f92d86fe"
      },
      "execution_count": 131,
      "outputs": [
        {
          "output_type": "stream",
          "name": "stdout",
          "text": [
            "+-------+------+-------+-----------+-----------+------+-----+--------+-----------+---------------------+------+-------+------+\n",
            "|summary|    ID|country|description|designation|points|price|province|taster_name|taster_twitter_handle| title|variety|winery|\n",
            "+-------+------+-------+-----------+-----------+------+-----+--------+-----------+---------------------+------+-------+------+\n",
            "|  count|101305| 101258|     101305|      73224|101305|94198|  101258|     101305|                96495|101305| 101305|101305|\n",
            "+-------+------+-------+-----------+-----------+------+-----+--------+-----------+---------------------+------+-------+------+\n",
            "\n"
          ]
        }
      ]
    },
    {
      "cell_type": "code",
      "source": [
        "result.coalesce(1).write.csv('wine_data_clean.csv', header = True)\n",
        "print('file save successfully')"
      ],
      "metadata": {
        "colab": {
          "base_uri": "https://localhost:8080/"
        },
        "id": "Nav8sCPi_fJB",
        "outputId": "701405e8-2555-4ad9-b4f2-6dd858fac836"
      },
      "execution_count": 134,
      "outputs": [
        {
          "output_type": "stream",
          "name": "stdout",
          "text": [
            "file save successfully\n"
          ]
        }
      ]
    },
    {
      "cell_type": "code",
      "source": [
        "dt_avg.coalesce(1).write.csv('wine_avg.csv', header = True)\n",
        "print('file save successfully')"
      ],
      "metadata": {
        "colab": {
          "base_uri": "https://localhost:8080/"
        },
        "id": "E3QdMuz6_znp",
        "outputId": "907b9ce8-a816-47ad-ab96-23133cd55b9f"
      },
      "execution_count": 135,
      "outputs": [
        {
          "output_type": "stream",
          "name": "stdout",
          "text": [
            "file save successfully\n"
          ]
        }
      ]
    },
    {
      "cell_type": "code",
      "source": [
        "read_wine_data = spark.read.csv('/content/wine_data_clean.csv/part-00000-abd995f0-0083-4ea4-b0d3-bed8b02fa0b9-c000.csv', header = True, inferSchema = True)\n",
        "read_wine_data.show()"
      ],
      "metadata": {
        "colab": {
          "base_uri": "https://localhost:8080/"
        },
        "id": "Xv4GzQrcA-4a",
        "outputId": "0084834e-5822-460a-99c8-1f4967ecb067"
      },
      "execution_count": 137,
      "outputs": [
        {
          "output_type": "stream",
          "name": "stdout",
          "text": [
            "+---+--------+--------------------+--------------------+------+-----+-----------------+------------------+---------------------+--------------------+--------------------+--------------------+\n",
            "| ID| country|         description|         designation|points|price|         province|       taster_name|taster_twitter_handle|               title|             variety|              winery|\n",
            "+---+--------+--------------------+--------------------+------+-----+-----------------+------------------+---------------------+--------------------+--------------------+--------------------+\n",
            "|  1|   Italy|Aromas include tr...|        Vulkà Bianco|    87| null|Sicily & Sardinia|     Kerin O’Keefe|         @kerinokeefe|Nicosia 2013 Vulk...|         White Blend|             Nicosia|\n",
            "|  2|Portugal|This is ripe and ...|            Avidagos|    87|   15|            Douro|        Roger Voss|           @vossroger|Quinta dos Avidag...|      Portuguese Red| Quinta dos Avidagos|\n",
            "|  3|      US|Soft, supple plum...|      Mountain Cuvée|    87|   19|       California|    Virginie Boone|              @vboone|Kirkland Signatur...|  Cabernet Sauvignon|  Kirkland Signature|\n",
            "|  4|      US|Fresh apple, lemo...|                null|    88|   18|         New York|Anna Lee C. Iijima|                 null|Ventosa 2015 Pino...|          Pinot Gris|             Ventosa|\n",
            "|  5|      US|Arcane's Cab is s...|                null|    88|   24|           Oregon|      Paul Gregutt|          @paulgwine |Arcane Cellars 20...|  Cabernet Sauvignon|      Arcane Cellars|\n",
            "|  6|  France|This is a smooth,...|Blanc de Noirs Gr...|    91| null|        Champagne|        Roger Voss|           @vossroger|Henriet-Bazin NV ...|          Pinot Noir|       Henriet-Bazin|\n",
            "|  7|  France|Chapoutier's sele...|    Le Méal Ermitage|    98|  150|     Rhône Valley|        Roger Voss|           @vossroger|M. Chapoutier 199...|Rhône-style Red B...|       M. Chapoutier|\n",
            "|  8|  France|Jean-Louis, the s...|                null|    97|  125|     Rhône Valley|        Roger Voss|           @vossroger|J.L. Chave 1999  ...|Rhône-style Red B...|          J.L. Chave|\n",
            "|  9|  France|Even though the 4...|          La Mouline|    96|  175|     Rhône Valley|        Roger Voss|           @vossroger|E. Guigal 1998 La...|Rhône-style Red B...|           E. Guigal|\n",
            "| 10|      US|After “fiddling a...|                null|    95|   60|       Washington|      Paul Gregutt|          @paulgwine |Quilceda Creek 19...|  Cabernet Sauvignon|      Quilceda Creek|\n",
            "| 11|  France|A firm, dry, four...|           La Turque|    95|  175|     Rhône Valley|        Roger Voss|           @vossroger|E. Guigal 1998 La...|Rhône-style Red B...|           E. Guigal|\n",
            "| 12|  France|Here is a superbl...|         La Landonne|    95|  150|     Rhône Valley|        Roger Voss|           @vossroger|Domaine Jean-Mich...|Rhône-style Red B...|Domaine Jean-Mich...|\n",
            "| 13|Portugal|A bold, powerful ...|             Reserva|    91|   15|         Alentejo|        Roger Voss|           @vossroger|Herdade dos Macha...|      Portuguese Red|Herdade dos Machados|\n",
            "| 14|  France|A huge, ink-black...|          Empreintes|    95|   37|     Rhône Valley|        Roger Voss|           @vossroger|Éric & Jöel Duran...|Rhône-style Red B...|  Éric & Jöel Durand|\n",
            "| 15|  France|A massive wine, w...|                null|    95|   55|     Rhône Valley|        Roger Voss|           @vossroger|E. Guigal 1999  H...|Rhône-style Red B...|           E. Guigal|\n",
            "| 16|  France|Jaboulet's white ...|Chevalier de Ster...|    94|   75|     Rhône Valley|        Roger Voss|           @vossroger|Paul Jaboulet Aîn...|Rhône-style White...|  Paul Jaboulet Aîné|\n",
            "| 17|  France|Jaboulet's view o...|         La Chapelle|    94|  131|     Rhône Valley|        Roger Voss|           @vossroger|Paul Jaboulet Aîn...|Rhône-style Red B...|  Paul Jaboulet Aîné|\n",
            "| 18|  France|Old vines in the ...|        Les Bessards|    94|   98|     Rhône Valley|        Roger Voss|           @vossroger|Delas Frères 1999...|Rhône-style Red B...|        Delas Frères|\n",
            "| 19|  France|The perfect combi...|     Brune et Blonde|    94|   40|     Rhône Valley|        Roger Voss|           @vossroger|E. Guigal 1999 Br...|               Syrah|           E. Guigal|\n",
            "| 20|   Italy|Here's a lovely s...|                Brut|    91|   29|         Lombardy|     Kerin O’Keefe|         @kerinokeefe|Il Mosnel NV Brut...|     Sparkling Blend|           Il Mosnel|\n",
            "+---+--------+--------------------+--------------------+------+-----+-----------------+------------------+---------------------+--------------------+--------------------+--------------------+\n",
            "only showing top 20 rows\n",
            "\n"
          ]
        }
      ]
    },
    {
      "cell_type": "code",
      "source": [
        "read_avg_data = spark.read.csv('/content/wine_avg.csv/part-00000-857a011c-fad7-4fdd-bf36-dec73ee07376-c000.csv', header = True, inferSchema = True)\n",
        "read_avg_data.show()"
      ],
      "metadata": {
        "colab": {
          "base_uri": "https://localhost:8080/"
        },
        "id": "evCOb2c_AifU",
        "outputId": "606cd56a-5e58-4b26-dd64-aafdb6f54c6c"
      },
      "execution_count": 136,
      "outputs": [
        {
          "output_type": "stream",
          "name": "stdout",
          "text": [
            "+------------+---------+---------+-----+\n",
            "|     country|AVG_PRICE|AVG_POINT|count|\n",
            "+------------+---------+---------+-----+\n",
            "|     England|    51.68|    91.58|   74|\n",
            "|       India|    13.33|    90.22|    9|\n",
            "|     Austria|    30.73|    90.11| 3334|\n",
            "|     Germany|    42.69|    89.88| 2134|\n",
            "|     Hungary|    42.51|    89.42|  145|\n",
            "|      Canada|    35.42|    89.35|  256|\n",
            "|          US|    36.28|    88.99|37726|\n",
            "|       Italy|    42.15|    88.87|11041|\n",
            "|      France|     41.5|    88.87|21827|\n",
            "|   Australia|    37.16|    88.76| 2037|\n",
            "|  Luxembourg|    23.33|    88.67|    6|\n",
            "|     Morocco|     19.7|    88.56|   28|\n",
            "|      Israel|    31.88|    88.51|  500|\n",
            "| New Zealand|     27.3|    88.33| 1306|\n",
            "|    Portugal|    25.94|    88.25| 5686|\n",
            "|South Africa|    25.14|    88.18| 1326|\n",
            "|      Turkey|    27.97|    88.05|   90|\n",
            "|    Slovenia|    24.46|    88.03|   87|\n",
            "| Switzerland|    107.8|     88.0|    7|\n",
            "|      Serbia|     31.0|     88.0|   12|\n",
            "+------------+---------+---------+-----+\n",
            "only showing top 20 rows\n",
            "\n"
          ]
        }
      ]
    }
  ]
}