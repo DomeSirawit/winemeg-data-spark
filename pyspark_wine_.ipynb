{
  "nbformat": 4,
  "nbformat_minor": 0,
  "metadata": {
    "colab": {
      "provenance": [],
      "authorship_tag": "ABX9TyN4GkhX4lpt8O4tKE1ed35w"
    },
    "kernelspec": {
      "name": "python3",
      "display_name": "Python 3"
    },
    "language_info": {
      "name": "python"
    }
  },
  "cells": [
    {
      "cell_type": "code",
      "execution_count": null,
      "metadata": {
        "id": "yfIo42I6rnRX"
      },
      "outputs": [],
      "source": [
        "!apt-get update                                                                          # Update Package \n",
        "!apt-get install openjdk-8-jdk-headless -qq > /dev/null                                  # install Java Development Kit (important!!! cant run Spark with out this)\n",
        "!wget -q https://archive.apache.org/dist/spark/spark-3.1.2/spark-3.1.2-bin-hadoop2.7.tgz # install Spark 3.1.2\n",
        "!tar xzvf spark-3.1.2-bin-hadoop2.7.tgz                                                  # Unzip  Spark 3.1.2\n",
        "!pip install -q findspark==1.3.0                                                         # install Package Python for connect with Spark "
      ]
    },
    {
      "cell_type": "code",
      "source": [
        "import os\n",
        "os.environ[\"JAVA_HOME\"] = \"/usr/lib/jvm/java-8-openjdk-amd64\"\n",
        "os.environ[\"SPARK_HOME\"] = \"/content/spark-3.1.2-bin-hadoop2.7\""
      ],
      "metadata": {
        "id": "_6CQV815rpiX"
      },
      "execution_count": 3,
      "outputs": []
    },
    {
      "cell_type": "code",
      "source": [
        "import pandas as pd"
      ],
      "metadata": {
        "id": "M1Yg3qJLuRXV"
      },
      "execution_count": 4,
      "outputs": []
    },
    {
      "cell_type": "code",
      "source": [
        "!pip install pyspark==3.1.2"
      ],
      "metadata": {
        "colab": {
          "base_uri": "https://localhost:8080/"
        },
        "id": "QsN_DbFHrqUg",
        "outputId": "f387ae79-9550-4a2d-af56-3d1fdfc626d3"
      },
      "execution_count": 5,
      "outputs": [
        {
          "output_type": "stream",
          "name": "stdout",
          "text": [
            "Looking in indexes: https://pypi.org/simple, https://us-python.pkg.dev/colab-wheels/public/simple/\n",
            "Collecting pyspark==3.1.2\n",
            "  Downloading pyspark-3.1.2.tar.gz (212.4 MB)\n",
            "\u001b[K     |████████████████████████████████| 212.4 MB 70 kB/s \n",
            "\u001b[?25hCollecting py4j==0.10.9\n",
            "  Downloading py4j-0.10.9-py2.py3-none-any.whl (198 kB)\n",
            "\u001b[K     |████████████████████████████████| 198 kB 43.7 MB/s \n",
            "\u001b[?25hBuilding wheels for collected packages: pyspark\n",
            "  Building wheel for pyspark (setup.py) ... \u001b[?25l\u001b[?25hdone\n",
            "  Created wheel for pyspark: filename=pyspark-3.1.2-py2.py3-none-any.whl size=212880769 sha256=c65aa52298584e8c6b00985b4be421ac2073243ade40641bcd78ce6bc9291ef0\n",
            "  Stored in directory: /root/.cache/pip/wheels/df/88/9e/58ef1f74892fef590330ca0830b5b6d995ba29b44f977b3926\n",
            "Successfully built pyspark\n",
            "Installing collected packages: py4j, pyspark\n",
            "Successfully installed py4j-0.10.9 pyspark-3.1.2\n"
          ]
        }
      ]
    },
    {
      "cell_type": "code",
      "source": [
        "# Create Spark Session \n",
        "from pyspark.sql import SparkSession\n",
        "spark = SparkSession.builder.master(\"local[*]\").getOrCreate()"
      ],
      "metadata": {
        "id": "PmpkBdhwrqom"
      },
      "execution_count": 6,
      "outputs": []
    },
    {
      "cell_type": "code",
      "source": [
        "#  Python Version\n",
        "import sys\n",
        "sys.version_info"
      ],
      "metadata": {
        "colab": {
          "base_uri": "https://localhost:8080/"
        },
        "id": "ZfcVpbVHrq23",
        "outputId": "c484e12d-908d-4cc0-b5a4-f654b977c693"
      },
      "execution_count": 7,
      "outputs": [
        {
          "output_type": "execute_result",
          "data": {
            "text/plain": [
              "sys.version_info(major=3, minor=8, micro=15, releaselevel='final', serial=0)"
            ]
          },
          "metadata": {},
          "execution_count": 7
        }
      ]
    },
    {
      "cell_type": "code",
      "source": [
        "# Download Data File !wget\n",
        "\n",
        "!wget https://maven-datasets.s3.amazonaws.com/Wine+Tasting/winemag-data-130k-v2.csv.zip"
      ],
      "metadata": {
        "colab": {
          "base_uri": "https://localhost:8080/"
        },
        "id": "MWRYeA6arrSK",
        "outputId": "24fc4028-80f1-412b-bf0a-51fd0d0dc76b"
      },
      "execution_count": 8,
      "outputs": [
        {
          "output_type": "stream",
          "name": "stdout",
          "text": [
            "--2022-12-02 14:13:23--  https://maven-datasets.s3.amazonaws.com/Wine+Tasting/winemag-data-130k-v2.csv.zip\n",
            "Resolving maven-datasets.s3.amazonaws.com (maven-datasets.s3.amazonaws.com)... 52.217.193.217, 52.217.172.233, 52.216.221.225, ...\n",
            "Connecting to maven-datasets.s3.amazonaws.com (maven-datasets.s3.amazonaws.com)|52.217.193.217|:443... connected.\n",
            "HTTP request sent, awaiting response... 200 OK\n",
            "Length: 16934504 (16M) [application/zip]\n",
            "Saving to: ‘winemag-data-130k-v2.csv.zip’\n",
            "\n",
            "winemag-data-130k-v 100%[===================>]  16.15M  78.2MB/s    in 0.2s    \n",
            "\n",
            "2022-12-02 14:13:23 (78.2 MB/s) - ‘winemag-data-130k-v2.csv.zip’ saved [16934504/16934504]\n",
            "\n"
          ]
        }
      ]
    },
    {
      "cell_type": "code",
      "source": [
        "!unzip winemag-data-130k-v2.csv.zip"
      ],
      "metadata": {
        "colab": {
          "base_uri": "https://localhost:8080/"
        },
        "id": "WSpIlKVPtrzQ",
        "outputId": "fcd0b223-3436-4df8-ea67-19b8ed7274b2"
      },
      "execution_count": 9,
      "outputs": [
        {
          "output_type": "stream",
          "name": "stdout",
          "text": [
            "Archive:  winemag-data-130k-v2.csv.zip\n",
            "  inflating: winemag-data-130k-v2.csv  \n",
            "  inflating: __MACOSX/._winemag-data-130k-v2.csv  \n"
          ]
        }
      ]
    },
    {
      "cell_type": "code",
      "source": [
        "dt = spark.read.csv('/content/winemag-data-130k-v2.csv', header = True, inferSchema = True, )"
      ],
      "metadata": {
        "id": "A4uyN93otsNd"
      },
      "execution_count": 75,
      "outputs": []
    },
    {
      "cell_type": "code",
      "source": [
        "# check column\n",
        "dt"
      ],
      "metadata": {
        "colab": {
          "base_uri": "https://localhost:8080/"
        },
        "id": "VfdeQHvZvHGu",
        "outputId": "3c3a5e31-7530-4c04-c063-36dd360a2313"
      },
      "execution_count": 11,
      "outputs": [
        {
          "output_type": "execute_result",
          "data": {
            "text/plain": [
              "DataFrame[id: string, country: string, description: string, designation: string, points: string, price: string, province: string, region_1: string, region_2: string, taster_name: string, taster_twitter_handle: string, title: string, variety: string, winery: string]"
            ]
          },
          "metadata": {},
          "execution_count": 11
        }
      ]
    },
    {
      "cell_type": "code",
      "source": [
        "dt.dtypes"
      ],
      "metadata": {
        "colab": {
          "base_uri": "https://localhost:8080/"
        },
        "id": "t6cyjjDkvOOS",
        "outputId": "3e058320-4d33-401c-d64d-4d1ff7262c53"
      },
      "execution_count": 12,
      "outputs": [
        {
          "output_type": "execute_result",
          "data": {
            "text/plain": [
              "[('id', 'string'),\n",
              " ('country', 'string'),\n",
              " ('description', 'string'),\n",
              " ('designation', 'string'),\n",
              " ('points', 'string'),\n",
              " ('price', 'string'),\n",
              " ('province', 'string'),\n",
              " ('region_1', 'string'),\n",
              " ('region_2', 'string'),\n",
              " ('taster_name', 'string'),\n",
              " ('taster_twitter_handle', 'string'),\n",
              " ('title', 'string'),\n",
              " ('variety', 'string'),\n",
              " ('winery', 'string')]"
            ]
          },
          "metadata": {},
          "execution_count": 12
        }
      ]
    },
    {
      "cell_type": "code",
      "source": [
        "dt.printSchema()"
      ],
      "metadata": {
        "colab": {
          "base_uri": "https://localhost:8080/"
        },
        "id": "4DYOIBT0vReF",
        "outputId": "2da40145-98e0-4936-95ad-57d40a2057b3"
      },
      "execution_count": 13,
      "outputs": [
        {
          "output_type": "stream",
          "name": "stdout",
          "text": [
            "root\n",
            " |-- id: string (nullable = true)\n",
            " |-- country: string (nullable = true)\n",
            " |-- description: string (nullable = true)\n",
            " |-- designation: string (nullable = true)\n",
            " |-- points: string (nullable = true)\n",
            " |-- price: string (nullable = true)\n",
            " |-- province: string (nullable = true)\n",
            " |-- region_1: string (nullable = true)\n",
            " |-- region_2: string (nullable = true)\n",
            " |-- taster_name: string (nullable = true)\n",
            " |-- taster_twitter_handle: string (nullable = true)\n",
            " |-- title: string (nullable = true)\n",
            " |-- variety: string (nullable = true)\n",
            " |-- winery: string (nullable = true)\n",
            "\n"
          ]
        }
      ]
    },
    {
      "cell_type": "code",
      "source": [
        "dt.show()"
      ],
      "metadata": {
        "colab": {
          "base_uri": "https://localhost:8080/"
        },
        "id": "jAyagcqeuG3j",
        "outputId": "5a74d72b-587e-4676-8652-385576f33942"
      },
      "execution_count": 14,
      "outputs": [
        {
          "output_type": "stream",
          "name": "stdout",
          "text": [
            "+---+---------+--------------------+--------------------+------+-----+-----------------+-------------------+-----------------+------------------+---------------------+--------------------+------------------+-------------------+\n",
            "| id|  country|         description|         designation|points|price|         province|           region_1|         region_2|       taster_name|taster_twitter_handle|               title|           variety|             winery|\n",
            "+---+---------+--------------------+--------------------+------+-----+-----------------+-------------------+-----------------+------------------+---------------------+--------------------+------------------+-------------------+\n",
            "|  0|    Italy|Aromas include tr...|        Vulkà Bianco|    87| null|Sicily & Sardinia|               Etna|             null|     Kerin O’Keefe|         @kerinokeefe|Nicosia 2013 Vulk...|       White Blend|            Nicosia|\n",
            "|  1| Portugal|This is ripe and ...|            Avidagos|    87|   15|            Douro|               null|             null|        Roger Voss|           @vossroger|Quinta dos Avidag...|    Portuguese Red|Quinta dos Avidagos|\n",
            "|  2|       US|Tart and snappy, ...|                null|    87|   14|           Oregon|  Willamette Valley|Willamette Valley|      Paul Gregutt|          @paulgwine |Rainstorm 2013 Pi...|        Pinot Gris|          Rainstorm|\n",
            "|  3|       US|Pineapple rind, l...|Reserve Late Harvest|    87|   13|         Michigan|Lake Michigan Shore|             null|Alexander Peartree|                 null|St. Julian 2013 R...|          Riesling|         St. Julian|\n",
            "|  4|       US|Much like the reg...|Vintner's Reserve...|    87|   65|           Oregon|  Willamette Valley|Willamette Valley|      Paul Gregutt|          @paulgwine |Sweet Cheeks 2012...|        Pinot Noir|       Sweet Cheeks|\n",
            "|  5|    Spain|Blackberry and ra...|        Ars In Vitro|    87|   15|   Northern Spain|            Navarra|             null| Michael Schachner|          @wineschach|Tandem 2011 Ars I...|Tempranillo-Merlot|             Tandem|\n",
            "|  6|    Italy|Here's a bright, ...|             Belsito|    87|   16|Sicily & Sardinia|           Vittoria|             null|     Kerin O’Keefe|         @kerinokeefe|Terre di Giurfo 2...|          Frappato|    Terre di Giurfo|\n",
            "|  7|   France|This dry and rest...|                null|    87|   24|           Alsace|             Alsace|             null|        Roger Voss|           @vossroger|Trimbach 2012 Gew...|    Gewürztraminer|           Trimbach|\n",
            "|  8|  Germany|Savory dried thym...|               Shine|    87|   12|      Rheinhessen|               null|             null|Anna Lee C. Iijima|                 null|Heinz Eifel 2013 ...|    Gewürztraminer|        Heinz Eifel|\n",
            "|  9|   France|This has great de...|         Les Natures|    87|   27|           Alsace|             Alsace|             null|        Roger Voss|           @vossroger|Jean-Baptiste Ada...|        Pinot Gris| Jean-Baptiste Adam|\n",
            "| 10|       US|Soft, supple plum...|      Mountain Cuvée|    87|   19|       California|        Napa Valley|             Napa|    Virginie Boone|              @vboone|Kirkland Signatur...|Cabernet Sauvignon| Kirkland Signature|\n",
            "| 11|   France|This is a dry win...|                null|    87|   30|           Alsace|             Alsace|             null|        Roger Voss|           @vossroger|Leon Beyer 2012 G...|    Gewürztraminer|         Leon Beyer|\n",
            "| 12|       US|Slightly reduced,...|                null|    87|   34|       California|   Alexander Valley|           Sonoma|    Virginie Boone|              @vboone|Louis M. Martini ...|Cabernet Sauvignon|   Louis M. Martini|\n",
            "| 13|    Italy|This is dominated...|               Rosso|    87| null|Sicily & Sardinia|               Etna|             null|     Kerin O’Keefe|         @kerinokeefe|Masseria Settepor...| Nerello Mascalese|Masseria Setteporte|\n",
            "| 14|       US|Building on 150 y...|                null|    87|   12|       California|      Central Coast|    Central Coast|     Matt Kettmann|        @mattkettmann|Mirassou 2012 Cha...|        Chardonnay|           Mirassou|\n",
            "| 15|  Germany|Zesty orange peel...|               Devon|    87|   24|            Mosel|               null|             null|Anna Lee C. Iijima|                 null|Richard Böcking 2...|          Riesling|    Richard Böcking|\n",
            "| 16|Argentina|Baked plum, molas...|               Felix|    87|   30|            Other|           Cafayate|             null| Michael Schachner|          @wineschach|Felix Lavaque 201...|            Malbec|      Felix Lavaque|\n",
            "| 17|Argentina|Raw black-cherry ...| Winemaker Selection|    87|   13| Mendoza Province|            Mendoza|             null| Michael Schachner|          @wineschach|Gaucho Andino 201...|            Malbec|      Gaucho Andino|\n",
            "| 18|    Spain|Desiccated blackb...|Vendimia Seleccio...|    87|   28|   Northern Spain|   Ribera del Duero|             null| Michael Schachner|          @wineschach|Pradorey 2010 Ven...| Tempranillo Blend|           Pradorey|\n",
            "| 19|       US|Red fruit aromas ...|                null|    87|   32|         Virginia|           Virginia|             null|Alexander Peartree|                 null|Quiévremont 2012 ...|          Meritage|        Quiévremont|\n",
            "+---+---------+--------------------+--------------------+------+-----+-----------------+-------------------+-----------------+------------------+---------------------+--------------------+------------------+-------------------+\n",
            "only showing top 20 rows\n",
            "\n"
          ]
        }
      ]
    },
    {
      "cell_type": "code",
      "source": [
        "print((dt.count(), len(dt.columns)))"
      ],
      "metadata": {
        "colab": {
          "base_uri": "https://localhost:8080/"
        },
        "id": "_ejDST14ujpP",
        "outputId": "9dbd7cbc-99f7-4c6a-b866-0ab1731e7d15"
      },
      "execution_count": 15,
      "outputs": [
        {
          "output_type": "stream",
          "name": "stdout",
          "text": [
            "(129975, 14)\n"
          ]
        }
      ]
    },
    {
      "cell_type": "code",
      "source": [
        "dt.dropDuplicates().count()\n"
      ],
      "metadata": {
        "colab": {
          "base_uri": "https://localhost:8080/"
        },
        "id": "tm_CTENtQmie",
        "outputId": "216b473b-6010-48f5-e582-91577b94d6b0"
      },
      "execution_count": 51,
      "outputs": [
        {
          "output_type": "execute_result",
          "data": {
            "text/plain": [
              "129975"
            ]
          },
          "metadata": {},
          "execution_count": 51
        }
      ]
    },
    {
      "cell_type": "code",
      "source": [
        "dt.summary().show()"
      ],
      "metadata": {
        "colab": {
          "base_uri": "https://localhost:8080/"
        },
        "id": "RwF54g1mvXqb",
        "outputId": "49a8941d-0847-4505-cac2-ec1e258b8117"
      },
      "execution_count": 37,
      "outputs": [
        {
          "output_type": "stream",
          "name": "stdout",
          "text": [
            "+-------+-----------------+--------------------+--------------------+--------------------+--------------------+--------------------+--------------------+--------------------+--------------------+--------------------+---------------------+--------------------+--------------------+--------------------+\n",
            "|summary|               id|             country|         description|         designation|              points|               price|            province|            region_1|            region_2|         taster_name|taster_twitter_handle|               title|             variety|              winery|\n",
            "+-------+-----------------+--------------------+--------------------+--------------------+--------------------+--------------------+--------------------+--------------------+--------------------+--------------------+---------------------+--------------------+--------------------+--------------------+\n",
            "|  count|           129975|              129912|              129974|               92513|              129966|              120976|              129909|              108734|               50521|              103726|                98762|              129965|              129963|              129963|\n",
            "|   mean|          64985.0|                90.0|                20.0|  1478.0204093567252|   88.44617681462783|   35.36592645259433|   47.61538461538461|   77.66666666666667|                83.5|                78.0|                 29.4|                59.0|                88.0|            Infinity|\n",
            "| stddev|37519.54025571209|                null|                null|   7075.198722438356|   3.047893435122091|   41.02276084008642|  33.432864224538264|   77.94271400629226|  15.758595538097083|     26.229754097208|    31.24579971772206|   49.49747468305833|                 0.0|                 NaN|\n",
            "|    min|                0| fine and extreme...|         \"\"\"Chremisa| a firmly structu...| and it doesn't s...| a lot of other N...| 's a light- to m...| and a lot of wei...| almost sharp dri...| almost severe el...|  a wine that abso...| and a wine to dr...| but balanced and...| but try after 20...|\n",
            "|    25%|          32493.0|                90.0|                20.0|               120.0|                86.0|                17.0|                24.0|                20.0|                60.0|                84.0|                 17.0|                24.0|                88.0|                92.0|\n",
            "|    50%|          64974.0|                90.0|                20.0|               459.0|                88.0|                25.0|                25.0|                50.0|                89.0|                86.0|                 17.0|                24.0|                88.0|              1850.0|\n",
            "|    75%|          97484.0|                90.0|                20.0|              1769.0|                91.0|                42.0|                87.0|                93.0|                92.0|                89.0|                 18.0|                94.0|                88.0|              1850.0|\n",
            "|    max|          elegant|             Uruguay|“Wow” is the firs...|                 “P”|              Umriss|            Piedmont|                Župa|        Zonda Valley|   Willamette Valley|      Virginie Boone|               Oregon|Štoka 2011 Izbran...|             Žilavka|               Štoka|\n",
            "+-------+-----------------+--------------------+--------------------+--------------------+--------------------+--------------------+--------------------+--------------------+--------------------+--------------------+---------------------+--------------------+--------------------+--------------------+\n",
            "\n"
          ]
        }
      ]
    },
    {
      "cell_type": "code",
      "source": [
        "dt.summary(\"count\").show()"
      ],
      "metadata": {
        "colab": {
          "base_uri": "https://localhost:8080/"
        },
        "id": "YBaJFD9Mvp5l",
        "outputId": "ef4cb3e7-d9d0-47ab-fac9-07e1f18a2237"
      },
      "execution_count": 38,
      "outputs": [
        {
          "output_type": "stream",
          "name": "stdout",
          "text": [
            "+-------+------+-------+-----------+-----------+------+------+--------+--------+--------+-----------+---------------------+------+-------+------+\n",
            "|summary|    id|country|description|designation|points| price|province|region_1|region_2|taster_name|taster_twitter_handle| title|variety|winery|\n",
            "+-------+------+-------+-----------+-----------+------+------+--------+--------+--------+-----------+---------------------+------+-------+------+\n",
            "|  count|129975| 129912|     129974|      92513|129966|120976|  129909|  108734|   50521|     103726|                98762|129965| 129963|129963|\n",
            "+-------+------+-------+-----------+-----------+------+------+--------+--------+--------+-----------+---------------------+------+-------+------+\n",
            "\n"
          ]
        }
      ]
    },
    {
      "cell_type": "code",
      "source": [
        "dt = dt.drop('region_1','region_2','region_')\n",
        "dt.show()"
      ],
      "metadata": {
        "colab": {
          "base_uri": "https://localhost:8080/"
        },
        "id": "7tcK24XmN5Jp",
        "outputId": "3de8c2ff-5130-4d00-f8c1-1b58de49db0c"
      },
      "execution_count": 47,
      "outputs": [
        {
          "output_type": "stream",
          "name": "stdout",
          "text": [
            "+---+---------+--------------------+--------------------+------+-----+-----------------+------------------+---------------------+--------------------+------------------+-------------------+\n",
            "| id|  country|         description|         designation|points|price|         province|       taster_name|taster_twitter_handle|               title|           variety|             winery|\n",
            "+---+---------+--------------------+--------------------+------+-----+-----------------+------------------+---------------------+--------------------+------------------+-------------------+\n",
            "|  0|    Italy|Aromas include tr...|        Vulkà Bianco|    87| null|Sicily & Sardinia|     Kerin O’Keefe|         @kerinokeefe|Nicosia 2013 Vulk...|       White Blend|            Nicosia|\n",
            "|  1| Portugal|This is ripe and ...|            Avidagos|    87|   15|            Douro|        Roger Voss|           @vossroger|Quinta dos Avidag...|    Portuguese Red|Quinta dos Avidagos|\n",
            "|  2|       US|Tart and snappy, ...|                null|    87|   14|           Oregon|      Paul Gregutt|          @paulgwine |Rainstorm 2013 Pi...|        Pinot Gris|          Rainstorm|\n",
            "|  3|       US|Pineapple rind, l...|Reserve Late Harvest|    87|   13|         Michigan|Alexander Peartree|                 null|St. Julian 2013 R...|          Riesling|         St. Julian|\n",
            "|  4|       US|Much like the reg...|Vintner's Reserve...|    87|   65|           Oregon|      Paul Gregutt|          @paulgwine |Sweet Cheeks 2012...|        Pinot Noir|       Sweet Cheeks|\n",
            "|  5|    Spain|Blackberry and ra...|        Ars In Vitro|    87|   15|   Northern Spain| Michael Schachner|          @wineschach|Tandem 2011 Ars I...|Tempranillo-Merlot|             Tandem|\n",
            "|  6|    Italy|Here's a bright, ...|             Belsito|    87|   16|Sicily & Sardinia|     Kerin O’Keefe|         @kerinokeefe|Terre di Giurfo 2...|          Frappato|    Terre di Giurfo|\n",
            "|  7|   France|This dry and rest...|                null|    87|   24|           Alsace|        Roger Voss|           @vossroger|Trimbach 2012 Gew...|    Gewürztraminer|           Trimbach|\n",
            "|  8|  Germany|Savory dried thym...|               Shine|    87|   12|      Rheinhessen|Anna Lee C. Iijima|                 null|Heinz Eifel 2013 ...|    Gewürztraminer|        Heinz Eifel|\n",
            "|  9|   France|This has great de...|         Les Natures|    87|   27|           Alsace|        Roger Voss|           @vossroger|Jean-Baptiste Ada...|        Pinot Gris| Jean-Baptiste Adam|\n",
            "| 10|       US|Soft, supple plum...|      Mountain Cuvée|    87|   19|       California|    Virginie Boone|              @vboone|Kirkland Signatur...|Cabernet Sauvignon| Kirkland Signature|\n",
            "| 11|   France|This is a dry win...|                null|    87|   30|           Alsace|        Roger Voss|           @vossroger|Leon Beyer 2012 G...|    Gewürztraminer|         Leon Beyer|\n",
            "| 12|       US|Slightly reduced,...|                null|    87|   34|       California|    Virginie Boone|              @vboone|Louis M. Martini ...|Cabernet Sauvignon|   Louis M. Martini|\n",
            "| 13|    Italy|This is dominated...|               Rosso|    87| null|Sicily & Sardinia|     Kerin O’Keefe|         @kerinokeefe|Masseria Settepor...| Nerello Mascalese|Masseria Setteporte|\n",
            "| 14|       US|Building on 150 y...|                null|    87|   12|       California|     Matt Kettmann|        @mattkettmann|Mirassou 2012 Cha...|        Chardonnay|           Mirassou|\n",
            "| 15|  Germany|Zesty orange peel...|               Devon|    87|   24|            Mosel|Anna Lee C. Iijima|                 null|Richard Böcking 2...|          Riesling|    Richard Böcking|\n",
            "| 16|Argentina|Baked plum, molas...|               Felix|    87|   30|            Other| Michael Schachner|          @wineschach|Felix Lavaque 201...|            Malbec|      Felix Lavaque|\n",
            "| 17|Argentina|Raw black-cherry ...| Winemaker Selection|    87|   13| Mendoza Province| Michael Schachner|          @wineschach|Gaucho Andino 201...|            Malbec|      Gaucho Andino|\n",
            "| 18|    Spain|Desiccated blackb...|Vendimia Seleccio...|    87|   28|   Northern Spain| Michael Schachner|          @wineschach|Pradorey 2010 Ven...| Tempranillo Blend|           Pradorey|\n",
            "| 19|       US|Red fruit aromas ...|                null|    87|   32|         Virginia|Alexander Peartree|                 null|Quiévremont 2012 ...|          Meritage|        Quiévremont|\n",
            "+---+---------+--------------------+--------------------+------+-----+-----------------+------------------+---------------------+--------------------+------------------+-------------------+\n",
            "only showing top 20 rows\n",
            "\n"
          ]
        }
      ]
    },
    {
      "cell_type": "code",
      "source": [
        "dt.where( dt.points.isNull()).show()"
      ],
      "metadata": {
        "colab": {
          "base_uri": "https://localhost:8080/"
        },
        "id": "tz2glST8vrYA",
        "outputId": "c40f60aa-d6fb-45e6-834d-27b62bdbea3d"
      },
      "execution_count": 76,
      "outputs": [
        {
          "output_type": "stream",
          "name": "stdout",
          "text": [
            "+--------------------+--------------------+--------------------+--------------------+------+-----+-------------+------------------+--------------------+-----------+---------------------+------+--------------------+------------+\n",
            "|                  id|             country|         description|         designation|points|price|     province|          region_1|            region_2|taster_name|taster_twitter_handle| title|             variety|      winery|\n",
            "+--------------------+--------------------+--------------------+--------------------+------+-----+-------------+------------------+--------------------+-----------+---------------------+------+--------------------+------------+\n",
            "|               18881|        South Africa|Notes of cocoa an...|Grand Classique C...|  null| null|         null|              null|                null|       null|                 null|  null|                null|        null|\n",
            "|Merlot-Cabernet F...|                  90|                  20|               Paarl|  null| null|Lauren Buzzeo|         @laurbuzz|Glen Carlou 2009 ...|       null|                 null|  null|                null|        null|\n",
            "|Merlot-Cabernet F...|Bordeaux-style Re...|         Glen Carlou|                null|  null| null|         null|              null|                null|       null|                 null|  null|                null|        null|\n",
            "|               21516|               Italy|This offers gener...|                null|  null| null|         null|              null|                null|       null|                 null|  null|                null|        null|\n",
            "|               38059|         New Zealand|\"Austere and mine...| a firmly structu...|  null|   90|           19|       Hawke's Bay|                null|       null|       Joe Czerwinski|@JoeCz|Esk Valley 2002 R...|    Riesling|\n",
            "|               38068|         New Zealand|\"The aromas are a...| this wine's rati...|  null|   89|           15|       Marlborough|                null|       null|       Joe Czerwinski|@JoeCz|Huia 2002 Rieslin...|    Riesling|\n",
            "|               51394|                  US|Brisk and clean, ...|                null|  null| null|         null|              null|                null|       null|                 null|  null|                null|        null|\n",
            "|               64137|               Italy|\"There's a slight...| showcasing ripe ...|  null|   90|           24|Northeastern Italy|Friuli Venezia Gi...|       null|       Joe Czerwinski|@JoeCz|Livio Felluga 200...|Pinot Grigio|\n",
            "|              115978|               Italy|\"This nicely stru...| bitter almond an...|  null|   88|           24|Northeastern Italy|      Venezia Giulia|       null|                 null|  null|Le Vigne di Zamò ...|Pinot Grigio|\n",
            "+--------------------+--------------------+--------------------+--------------------+------+-----+-------------+------------------+--------------------+-----------+---------------------+------+--------------------+------------+\n",
            "\n"
          ]
        }
      ]
    },
    {
      "cell_type": "code",
      "source": [
        "dt.groupBy('taster_name').count().orderBy('count', ascending = False).show(38)"
      ],
      "metadata": {
        "colab": {
          "base_uri": "https://localhost:8080/"
        },
        "id": "6Mu4rr9ib11Q",
        "outputId": "48f1d774-d660-4044-9640-603b219ff160"
      },
      "execution_count": 78,
      "outputs": [
        {
          "output_type": "stream",
          "name": "stdout",
          "text": [
            "+--------------------+-----+\n",
            "|         taster_name|count|\n",
            "+--------------------+-----+\n",
            "|                null|26249|\n",
            "|          Roger Voss|25513|\n",
            "|   Michael Schachner|15133|\n",
            "|       Kerin O’Keefe|10776|\n",
            "|      Virginie Boone| 9537|\n",
            "|        Paul Gregutt| 9529|\n",
            "|       Matt Kettmann| 6332|\n",
            "|      Joe Czerwinski| 5139|\n",
            "|    Sean P. Sullivan| 4966|\n",
            "|  Anna Lee C. Iijima| 4415|\n",
            "|          Jim Gordon| 4177|\n",
            "|    Anne Krebiehl MW| 3683|\n",
            "|       Lauren Buzzeo| 1832|\n",
            "|     Susan Kostrzewa| 1085|\n",
            "|       Mike DeSimone|  514|\n",
            "|        Jeff Jenssen|  491|\n",
            "|  Alexander Peartree|  415|\n",
            "|        Carrie Dykes|  139|\n",
            "|         Fiona Adams|   27|\n",
            "|   Christina Pickard|    6|\n",
            "|                  89|    2|\n",
            "|   Chambolle-Musigny|    1|\n",
            "|                Etna|    1|\n",
            "|                  84|    1|\n",
            "|                  95|    1|\n",
            "| there's remarkab...|    1|\n",
            "|         Napa Valley|    1|\n",
            "| almost severe el...|    1|\n",
            "| but you can cert...|    1|\n",
            "| mocha and cinnam...|    1|\n",
            "|                  86|    1|\n",
            "|       Central Coast|    1|\n",
            "|          California|    1|\n",
            "|Edition Chremisa ...|    1|\n",
            "|                  25|    1|\n",
            "|        Finger Lakes|    1|\n",
            "+--------------------+-----+\n",
            "\n"
          ]
        }
      ]
    },
    {
      "cell_type": "code",
      "source": [
        "dt_c = dt.groupBy('taster_name').count().orderBy('count', ascending = False)\n",
        "dt_c = dt_c.where('count == 1')\n",
        "dt_c.show()"
      ],
      "metadata": {
        "colab": {
          "base_uri": "https://localhost:8080/"
        },
        "id": "u6rUSNEcMPwA",
        "outputId": "ca438344-4216-43b5-a77a-923d76e53d8c"
      },
      "execution_count": 70,
      "outputs": [
        {
          "output_type": "stream",
          "name": "stdout",
          "text": [
            "+--------------------+-----+\n",
            "|         taster_name|count|\n",
            "+--------------------+-----+\n",
            "|   Chambolle-Musigny|    1|\n",
            "|                Etna|    1|\n",
            "| there's remarkab...|    1|\n",
            "|                  95|    1|\n",
            "| mocha and cinnam...|    1|\n",
            "|                  25|    1|\n",
            "|                  86|    1|\n",
            "|                  84|    1|\n",
            "|         Napa Valley|    1|\n",
            "| almost severe el...|    1|\n",
            "| but you can cert...|    1|\n",
            "|          California|    1|\n",
            "|       Central Coast|    1|\n",
            "|        Finger Lakes|    1|\n",
            "|Edition Chremisa ...|    1|\n",
            "+--------------------+-----+\n",
            "\n"
          ]
        }
      ]
    },
    {
      "cell_type": "code",
      "source": [
        "from pyspark.sql import functions as F, Window as W\n"
      ],
      "metadata": {
        "id": "3RbI_o8ORgcj"
      },
      "execution_count": 61,
      "outputs": []
    },
    {
      "cell_type": "code",
      "source": [
        "window = W.partitionBy(\"taster_name\")\n",
        "\n",
        "dt_name = dt.withColumn(\"count\", F.count(\"taster_name\").over(window))\\\n",
        "              .filter(F.col(\"count\") > 2).drop(\"count\")\n",
        "dt_name.groupBy('taster_name').count().orderBy('count', ascending = False).show(38)"
      ],
      "metadata": {
        "colab": {
          "base_uri": "https://localhost:8080/"
        },
        "id": "BJu3MeIyZ4XF",
        "outputId": "ee376eb1-8553-4457-be6a-a84b50b5ef0c"
      },
      "execution_count": 80,
      "outputs": [
        {
          "output_type": "stream",
          "name": "stdout",
          "text": [
            "+------------------+-----+\n",
            "|       taster_name|count|\n",
            "+------------------+-----+\n",
            "|        Roger Voss|25513|\n",
            "| Michael Schachner|15133|\n",
            "|     Kerin O’Keefe|10776|\n",
            "|    Virginie Boone| 9537|\n",
            "|      Paul Gregutt| 9529|\n",
            "|     Matt Kettmann| 6332|\n",
            "|    Joe Czerwinski| 5139|\n",
            "|  Sean P. Sullivan| 4966|\n",
            "|Anna Lee C. Iijima| 4415|\n",
            "|        Jim Gordon| 4177|\n",
            "|  Anne Krebiehl MW| 3683|\n",
            "|     Lauren Buzzeo| 1832|\n",
            "|   Susan Kostrzewa| 1085|\n",
            "|     Mike DeSimone|  514|\n",
            "|      Jeff Jenssen|  491|\n",
            "|Alexander Peartree|  415|\n",
            "|      Carrie Dykes|  139|\n",
            "|       Fiona Adams|   27|\n",
            "| Christina Pickard|    6|\n",
            "+------------------+-----+\n",
            "\n"
          ]
        }
      ]
    },
    {
      "cell_type": "code",
      "source": [
        "dt = dt_name\n",
        "dt.groupBy('taster_name').count().orderBy('count', ascending = False).show()"
      ],
      "metadata": {
        "colab": {
          "base_uri": "https://localhost:8080/"
        },
        "id": "yIhXgqXedijh",
        "outputId": "afcd2fef-a74c-435d-b116-32dc818758a1"
      },
      "execution_count": 86,
      "outputs": [
        {
          "output_type": "stream",
          "name": "stdout",
          "text": [
            "+------------------+-----+\n",
            "|       taster_name|count|\n",
            "+------------------+-----+\n",
            "|        Roger Voss|25513|\n",
            "| Michael Schachner|15133|\n",
            "|     Kerin O’Keefe|10776|\n",
            "|    Virginie Boone| 9537|\n",
            "|      Paul Gregutt| 9529|\n",
            "|     Matt Kettmann| 6332|\n",
            "|    Joe Czerwinski| 5139|\n",
            "|  Sean P. Sullivan| 4966|\n",
            "|Anna Lee C. Iijima| 4415|\n",
            "|        Jim Gordon| 4177|\n",
            "|  Anne Krebiehl MW| 3683|\n",
            "|     Lauren Buzzeo| 1832|\n",
            "|   Susan Kostrzewa| 1085|\n",
            "|     Mike DeSimone|  514|\n",
            "|      Jeff Jenssen|  491|\n",
            "|Alexander Peartree|  415|\n",
            "|      Carrie Dykes|  139|\n",
            "|       Fiona Adams|   27|\n",
            "| Christina Pickard|    6|\n",
            "+------------------+-----+\n",
            "\n"
          ]
        }
      ]
    },
    {
      "cell_type": "code",
      "source": [
        "dt.select(\"country\").distinct().count()"
      ],
      "metadata": {
        "colab": {
          "base_uri": "https://localhost:8080/"
        },
        "id": "MXY2rssfDwGI",
        "outputId": "e87ce23b-6208-4524-ec11-1c72306b401e"
      },
      "execution_count": 19,
      "outputs": [
        {
          "output_type": "execute_result",
          "data": {
            "text/plain": [
              "48"
            ]
          },
          "metadata": {},
          "execution_count": 19
        }
      ]
    },
    {
      "cell_type": "code",
      "source": [
        "dt.groupBy('country').count().orderBy('count', ascending = False).show(48, False)"
      ],
      "metadata": {
        "colab": {
          "base_uri": "https://localhost:8080/"
        },
        "id": "QBxCHZnuFlwc",
        "outputId": "2f210036-40f3-4dc9-bde7-c23382f4a292"
      },
      "execution_count": 60,
      "outputs": [
        {
          "output_type": "stream",
          "name": "stdout",
          "text": [
            "+----------------------------------------------------------------------------------+-----+\n",
            "|country                                                                           |count|\n",
            "+----------------------------------------------------------------------------------+-----+\n",
            "|US                                                                                |54504|\n",
            "|France                                                                            |22093|\n",
            "|Italy                                                                             |19540|\n",
            "|Spain                                                                             |6645 |\n",
            "|Portugal                                                                          |5691 |\n",
            "|Chile                                                                             |4472 |\n",
            "|Argentina                                                                         |3800 |\n",
            "|Austria                                                                           |3345 |\n",
            "|Australia                                                                         |2329 |\n",
            "|Germany                                                                           |2165 |\n",
            "|New Zealand                                                                       |1419 |\n",
            "|South Africa                                                                      |1401 |\n",
            "|Israel                                                                            |505  |\n",
            "|Greece                                                                            |466  |\n",
            "|Canada                                                                            |257  |\n",
            "|Hungary                                                                           |146  |\n",
            "|Bulgaria                                                                          |141  |\n",
            "|Romania                                                                           |120  |\n",
            "|Uruguay                                                                           |109  |\n",
            "|Turkey                                                                            |90   |\n",
            "|Slovenia                                                                          |87   |\n",
            "|Georgia                                                                           |86   |\n",
            "|England                                                                           |74   |\n",
            "|Croatia                                                                           |73   |\n",
            "|Mexico                                                                            |70   |\n",
            "|null                                                                              |63   |\n",
            "|Moldova                                                                           |59   |\n",
            "|Brazil                                                                            |52   |\n",
            "|Lebanon                                                                           |35   |\n",
            "|Morocco                                                                           |28   |\n",
            "|Peru                                                                              |16   |\n",
            "|Ukraine                                                                           |14   |\n",
            "|Serbia                                                                            |12   |\n",
            "|Czech Republic                                                                    |12   |\n",
            "|Macedonia                                                                         |12   |\n",
            "|Cyprus                                                                            |11   |\n",
            "|India                                                                             |9    |\n",
            "|Switzerland                                                                       |7    |\n",
            "|Luxembourg                                                                        |6    |\n",
            "|Armenia                                                                           |2    |\n",
            "|Bosnia and Herzegovina                                                            |2    |\n",
            "| marked by tart citrus flavors that make it versatile with a wide range of foods.\"|1    |\n",
            "|Bordeaux-style Red Blend                                                          |1    |\n",
            "|Slovakia                                                                          |1    |\n",
            "|90                                                                                |1    |\n",
            "|Egypt                                                                             |1    |\n",
            "| fine and extremely polished; hold for 10 years.\"                                 |1    |\n",
            "|China                                                                             |1    |\n",
            "+----------------------------------------------------------------------------------+-----+\n",
            "\n"
          ]
        }
      ]
    },
    {
      "cell_type": "code",
      "source": [
        "window_c = W.partitionBy(\"country\")\n",
        "\n",
        "dt_country = dt.withColumn(\"count\", F.count(\"country\").over(window_c))\\\n",
        "              .filter(F.col(\"count\") > 1).drop(\"count\")\n",
        "dt_country.groupBy('country').count().orderBy('count', ascending = False).show(48)"
      ],
      "metadata": {
        "colab": {
          "base_uri": "https://localhost:8080/"
        },
        "id": "nqxwBmRucwwS",
        "outputId": "a442ecdf-f54f-4e92-a3cd-c021be0b6e6e"
      },
      "execution_count": 83,
      "outputs": [
        {
          "output_type": "stream",
          "name": "stdout",
          "text": [
            "+--------------------+-----+\n",
            "|             country|count|\n",
            "+--------------------+-----+\n",
            "|                  US|54504|\n",
            "|              France|22093|\n",
            "|               Italy|19540|\n",
            "|               Spain| 6645|\n",
            "|            Portugal| 5691|\n",
            "|               Chile| 4472|\n",
            "|           Argentina| 3800|\n",
            "|             Austria| 3345|\n",
            "|           Australia| 2329|\n",
            "|             Germany| 2165|\n",
            "|         New Zealand| 1419|\n",
            "|        South Africa| 1401|\n",
            "|              Israel|  505|\n",
            "|              Greece|  466|\n",
            "|              Canada|  257|\n",
            "|             Hungary|  146|\n",
            "|            Bulgaria|  141|\n",
            "|             Romania|  120|\n",
            "|             Uruguay|  109|\n",
            "|              Turkey|   90|\n",
            "|            Slovenia|   87|\n",
            "|             Georgia|   86|\n",
            "|             England|   74|\n",
            "|             Croatia|   73|\n",
            "|              Mexico|   70|\n",
            "|             Moldova|   59|\n",
            "|              Brazil|   52|\n",
            "|             Lebanon|   35|\n",
            "|             Morocco|   28|\n",
            "|                Peru|   16|\n",
            "|             Ukraine|   14|\n",
            "|              Serbia|   12|\n",
            "|           Macedonia|   12|\n",
            "|      Czech Republic|   12|\n",
            "|              Cyprus|   11|\n",
            "|               India|    9|\n",
            "|         Switzerland|    7|\n",
            "|          Luxembourg|    6|\n",
            "|             Armenia|    2|\n",
            "|Bosnia and Herzeg...|    2|\n",
            "+--------------------+-----+\n",
            "\n"
          ]
        }
      ]
    },
    {
      "cell_type": "code",
      "source": [
        "dt = dt_country \n",
        "dt.groupBy('country').count().orderBy('count', ascending = False).show(48)"
      ],
      "metadata": {
        "colab": {
          "base_uri": "https://localhost:8080/"
        },
        "id": "ktr_PoWKd2Vy",
        "outputId": "7b59130f-bab9-42bf-998a-0676c05935b0"
      },
      "execution_count": 89,
      "outputs": [
        {
          "output_type": "stream",
          "name": "stdout",
          "text": [
            "+--------------------+-----+\n",
            "|             country|count|\n",
            "+--------------------+-----+\n",
            "|                  US|54504|\n",
            "|              France|22093|\n",
            "|               Italy|19540|\n",
            "|               Spain| 6645|\n",
            "|            Portugal| 5691|\n",
            "|               Chile| 4472|\n",
            "|           Argentina| 3800|\n",
            "|             Austria| 3345|\n",
            "|           Australia| 2329|\n",
            "|             Germany| 2165|\n",
            "|         New Zealand| 1419|\n",
            "|        South Africa| 1401|\n",
            "|              Israel|  505|\n",
            "|              Greece|  466|\n",
            "|              Canada|  257|\n",
            "|             Hungary|  146|\n",
            "|            Bulgaria|  141|\n",
            "|             Romania|  120|\n",
            "|             Uruguay|  109|\n",
            "|              Turkey|   90|\n",
            "|            Slovenia|   87|\n",
            "|             Georgia|   86|\n",
            "|             England|   74|\n",
            "|             Croatia|   73|\n",
            "|              Mexico|   70|\n",
            "|             Moldova|   59|\n",
            "|              Brazil|   52|\n",
            "|             Lebanon|   35|\n",
            "|             Morocco|   28|\n",
            "|                Peru|   16|\n",
            "|             Ukraine|   14|\n",
            "|              Serbia|   12|\n",
            "|      Czech Republic|   12|\n",
            "|           Macedonia|   12|\n",
            "|              Cyprus|   11|\n",
            "|               India|    9|\n",
            "|         Switzerland|    7|\n",
            "|          Luxembourg|    6|\n",
            "|             Armenia|    2|\n",
            "|Bosnia and Herzeg...|    2|\n",
            "+--------------------+-----+\n",
            "\n"
          ]
        }
      ]
    },
    {
      "cell_type": "code",
      "source": [
        "dt.select(\"country\").distinct().sort(\"country\").show( 48, False )"
      ],
      "metadata": {
        "colab": {
          "base_uri": "https://localhost:8080/"
        },
        "id": "NiuSWfrkD31Q",
        "outputId": "b818f584-b57a-4355-8a76-260447bfcea3"
      },
      "execution_count": 21,
      "outputs": [
        {
          "output_type": "stream",
          "name": "stdout",
          "text": [
            "+----------------------------------------------------------------------------------+\n",
            "|country                                                                           |\n",
            "+----------------------------------------------------------------------------------+\n",
            "|null                                                                              |\n",
            "| fine and extremely polished; hold for 10 years.\"                                 |\n",
            "| marked by tart citrus flavors that make it versatile with a wide range of foods.\"|\n",
            "|90                                                                                |\n",
            "|Argentina                                                                         |\n",
            "|Armenia                                                                           |\n",
            "|Australia                                                                         |\n",
            "|Austria                                                                           |\n",
            "|Bordeaux-style Red Blend                                                          |\n",
            "|Bosnia and Herzegovina                                                            |\n",
            "|Brazil                                                                            |\n",
            "|Bulgaria                                                                          |\n",
            "|Canada                                                                            |\n",
            "|Chile                                                                             |\n",
            "|China                                                                             |\n",
            "|Croatia                                                                           |\n",
            "|Cyprus                                                                            |\n",
            "|Czech Republic                                                                    |\n",
            "|Egypt                                                                             |\n",
            "|England                                                                           |\n",
            "|France                                                                            |\n",
            "|Georgia                                                                           |\n",
            "|Germany                                                                           |\n",
            "|Greece                                                                            |\n",
            "|Hungary                                                                           |\n",
            "|India                                                                             |\n",
            "|Israel                                                                            |\n",
            "|Italy                                                                             |\n",
            "|Lebanon                                                                           |\n",
            "|Luxembourg                                                                        |\n",
            "|Macedonia                                                                         |\n",
            "|Mexico                                                                            |\n",
            "|Moldova                                                                           |\n",
            "|Morocco                                                                           |\n",
            "|New Zealand                                                                       |\n",
            "|Peru                                                                              |\n",
            "|Portugal                                                                          |\n",
            "|Romania                                                                           |\n",
            "|Serbia                                                                            |\n",
            "|Slovakia                                                                          |\n",
            "|Slovenia                                                                          |\n",
            "|South Africa                                                                      |\n",
            "|Spain                                                                             |\n",
            "|Switzerland                                                                       |\n",
            "|Turkey                                                                            |\n",
            "|US                                                                                |\n",
            "|Ukraine                                                                           |\n",
            "|Uruguay                                                                           |\n",
            "+----------------------------------------------------------------------------------+\n",
            "\n"
          ]
        }
      ]
    },
    {
      "cell_type": "code",
      "source": [
        "dt_clean = dt.filter(\"country IS NULL\").show()"
      ],
      "metadata": {
        "colab": {
          "base_uri": "https://localhost:8080/"
        },
        "id": "q8b4n5ByEMVq",
        "outputId": "d44bd801-9107-4fad-f278-292356ab17c3"
      },
      "execution_count": 22,
      "outputs": [
        {
          "output_type": "stream",
          "name": "stdout",
          "text": [
            "+-----+-------+--------------------+--------------------+------+-----+--------+--------+--------+-----------------+---------------------+--------------------+---------------+--------------------+\n",
            "|   id|country|         description|         designation|points|price|province|region_1|region_2|      taster_name|taster_twitter_handle|               title|        variety|              winery|\n",
            "+-----+-------+--------------------+--------------------+------+-----+--------+--------+--------+-----------------+---------------------+--------------------+---------------+--------------------+\n",
            "|  913|   null|Amber in color, t...|      Asureti Valley|    87|   30|    null|    null|    null|    Mike DeSimone|       @worldwineguys|Gotsa Family Wine...|        Chinuri|  Gotsa Family Wines|\n",
            "| 3131|   null|Soft, fruity and ...|            Partager|    83| null|    null|    null|    null|       Roger Voss|           @vossroger|Barton & Guestier...|      Red Blend|   Barton & Guestier|\n",
            "| 4243|   null|Violet-red in col...|Red Naturally Sem...|    88|   18|    null|    null|    null|    Mike DeSimone|       @worldwineguys|Kakhetia Traditio...|       Ojaleshi|Kakhetia Traditio...|\n",
            "| 9509|   null|This mouthwaterin...|Theopetra Malagou...|    92|   28|    null|    null|    null|  Susan Kostrzewa|        @suskostrzewa|Tsililis 2015 The...|    White Blend|            Tsililis|\n",
            "| 9750|   null|This orange-style...|Orange Nikolaevo ...|    89|   28|    null|    null|    null|     Jeff Jenssen|       @worldwineguys|Ross-idi 2015 Ora...|     Chardonnay|            Ross-idi|\n",
            "|11150|   null|A blend of 85% Me...|                null|    89|   20|    null|    null|    null|     Jeff Jenssen|       @worldwineguys| Orbelus 2013 Melnik|         Melnik|             Orbelus|\n",
            "|11348|   null|Light and fruity,...|            Partager|    82| null|    null|    null|    null|       Roger Voss|           @vossroger|Barton & Guestier...|    White Blend|   Barton & Guestier|\n",
            "|14030|   null|This Furmint, gro...|               Márga|    88|   25|    null|    null|    null|     Jeff Jenssen|       @worldwineguys|St. Donat 2013 Má...|    White Blend|           St. Donat|\n",
            "|16000|   null|Jumpy, jammy arom...|Valle de los Mana...|    86|   40|    null|    null|    null|Michael Schachner|          @wineschach|Familia Deicas 20...|         Tannat|      Familia Deicas|\n",
            "|16749|   null|Winemaker: Bartho...|Cape Winemakers G...|    91| null|    null|    null|    null|    Lauren Buzzeo|            @laurbuzz|Bartho Eksteen 20...|Sauvignon Blanc|      Bartho Eksteen|\n",
            "|18075|   null|Delicate white fl...|           Askitikos|    90|   17|    null|    null|    null|  Susan Kostrzewa|        @suskostrzewa|Tsililis 2015 Ask...|      Assyrtiko|            Tsililis|\n",
            "|26485|   null|This wine has aro...|                null|    87|   13|    null|    null|    null|     Jeff Jenssen|       @worldwineguys|Stone Castle 2013...|         Shiraz|        Stone Castle|\n",
            "|26486|   null|Aromas of green a...|                null|    87|   14|    null|    null|    null|    Mike DeSimone|       @worldwineguys|Teliani Valley 20...|     Tsolikouri|      Teliani Valley|\n",
            "|26489|   null|Balanced aromas o...|      Aliwen Reserva|    87|   12|    null|    null|    null|Michael Schachner|          @wineschach|Undurraga 2016 Al...|Sauvignon Blanc|           Undurraga|\n",
            "|27822|   null|This is a reasona...|                null|    86|   19|    null|    null|    null|   Joe Czerwinski|               @JoeCz|Mt. Beautiful 201...|     Pinot Gris|       Mt. Beautiful|\n",
            "|36112|   null|An interesting bl...|Hrumki Melnik 55 ...|    89|   25|    null|    null|    null|     Jeff Jenssen|       @worldwineguys|Orbelus 2012 Hrum...|      Red Blend|             Orbelus|\n",
            "|38240|   null|Subdued citrus an...|  Steirische Klassik|    89|   24|    null|    null|    null| Anne Krebiehl MW|          @AnneInVino|Neumeister 2015 S...|  Grauburgunder|          Neumeister|\n",
            "|38898|   null|Scents of clover,...|Wismer-Parke Vine...|    89|   34|    null|    null|    null|     Paul Gregutt|          @paulgwine |Bachelder 2014 Wi...|     Pinot Noir|           Bachelder|\n",
            "|44674|   null|Crisp apple fresh...|  Steirische Klassik|    91|   25|    null|    null|    null| Anne Krebiehl MW|          @AnneInVino|Neumeister 2016 S...|  Grauburgunder|          Neumeister|\n",
            "|44850|   null|This blend of Gam...|             Amphora|    84|    6|    null|    null|    null|     Jeff Jenssen|       @worldwineguys|Stone Castle 2014...|      Red Blend|        Stone Castle|\n",
            "+-----+-------+--------------------+--------------------+------+-----+--------+--------+--------+-----------------+---------------------+--------------------+---------------+--------------------+\n",
            "only showing top 20 rows\n",
            "\n"
          ]
        }
      ]
    },
    {
      "cell_type": "code",
      "source": [
        "dt.where('''country in ('90',\n",
        "                        ' fine and extremely polished; hold for 10 years.\"',\n",
        "                        ' marked by tart citrus flavors that make it versatile with a wide range of foods.\"',\n",
        "                        'Bordeaux-style Red Blend')''').show()"
      ],
      "metadata": {
        "colab": {
          "base_uri": "https://localhost:8080/"
        },
        "id": "YzNxLo3IPoFR",
        "outputId": "7a6707ad-4bd9-47d4-f083-27bb844c9a39"
      },
      "execution_count": 23,
      "outputs": [
        {
          "output_type": "stream",
          "name": "stdout",
          "text": [
            "+--------------------+--------------------+-----------+-----------+------+----------+-------------+----------------+--------------------+-----------+---------------------+------------+-----------+------+\n",
            "|                  id|             country|description|designation|points|     price|     province|        region_1|            region_2|taster_name|taster_twitter_handle|       title|    variety|winery|\n",
            "+--------------------+--------------------+-----------+-----------+------+----------+-------------+----------------+--------------------+-----------+---------------------+------------+-----------+------+\n",
            "|Merlot-Cabernet F...|                  90|         20|      Paarl|  null|      null|Lauren Buzzeo|       @laurbuzz|Glen Carlou 2009 ...|       null|                 null|        null|       null|  null|\n",
            "|Merlot-Cabernet F...|Bordeaux-style Re...|Glen Carlou|       null|  null|      null|         null|            null|                null|       null|                 null|        null|       null|  null|\n",
            "|             elegant| fine and extreme...|     Ravera|         92|    71|  Piedmont|       Barolo|            null|                null|       null| Elvio Cogno 2008 ...|    Nebbiolo|Elvio Cogno|  null|\n",
            "|     anti-Chardonnay| marked by tart c...|       null|         85|    10|California|   California|California Other|                null|       null| Montevina 2010 Pi...|Pinot Grigio|  Montevina|  null|\n",
            "+--------------------+--------------------+-----------+-----------+------+----------+-------------+----------------+--------------------+-----------+---------------------+------------+-----------+------+\n",
            "\n"
          ]
        }
      ]
    },
    {
      "cell_type": "code",
      "source": [],
      "metadata": {
        "id": "UEQuTqFsLcU2"
      },
      "execution_count": 23,
      "outputs": []
    },
    {
      "cell_type": "code",
      "source": [],
      "metadata": {
        "id": "PMxdNBAuMEKs"
      },
      "execution_count": null,
      "outputs": []
    }
  ]
}